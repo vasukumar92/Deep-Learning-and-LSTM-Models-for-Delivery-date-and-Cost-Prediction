{
 "cells": [
  {
   "cell_type": "markdown",
   "metadata": {},
   "source": [
    "# Deep Learning and LSTM for Supply Chain\n",
    "\n",
    "###  1) Deep Learning based delivery date prediction \n",
    "\n",
    "###  2) LSTM based Freight cost prediction"
   ]
  },
  {
   "cell_type": "markdown",
   "metadata": {},
   "source": [
    "**Description:**\n",
    "\n",
    "The objective of the project is to obtain the prediction of delivery date and freight cost based on the historic trend and attributes.The notebook showcases the exploratory data analysis and Deep learning model for delivery date prediction as well as LSTM model for freight cost prediction.\n",
    "\n",
    "The supply chain shipment data is available free of charge at the following links  https://www.ncdc.noaa.gov/cdo-web and https://www.usaid.gov/opengov/developer/datasets/SCMS_Delivery_History_Dataset_20150929.csv.\n",
    "\n",
    "**Methodology:**\n",
    "1. Loading required libraries\n",
    "2. Data loading\n",
    "3. Feature engineering and Exploratory Data analysis\n",
    "4. Deep Learning Model for Delivery Date Prediction\n",
    "5. LSTM based Freight Cost Prediction\n",
    "6. Result Discussion\n",
    "\n",
    "**Requirements:** This project requires **Python 3.6** and the following Python libraries installed:\n",
    "\n",
    "- [NumPy](http://www.numpy.org/)\n",
    "- [Pandas](http://pandas.pydata.org)\n",
    "- [matplotlib](http://matplotlib.org/)\n",
    "- [Seaborn](https://seaborn.pydata.org/)\n",
    "- [XGBoost](https://github.com/dmlc/xgboost)\n",
    "- [scikit-learn](http://scikit-learn.org/stable/)\n",
    "- [DateTime](https://docs.python.org/2/library/datetime.html)\n",
    "- [Keras](https://keras.io/)\n",
    "- [TensorFlow](https://www.tensorflow.org/)\n",
    "\n",
    "You will also need to have software installed to run and execute a [Jupyter Notebook](http://ipython.org/notebook.html)\n",
    "\n",
    "If you do not have Python installed yet, it is highly recommended that you install the [Anaconda](http://continuum.io/downloads) distribution of Python, which already has the above packages and more included. \n",
    "\n"
   ]
  },
  {
   "cell_type": "code",
   "execution_count": 1,
   "metadata": {},
   "outputs": [],
   "source": [
    "import pandas as pd\n",
    "import numpy as np \n",
    "import matplotlib.pyplot as plt\n",
    "import os\n",
    "import sklearn\n",
    "import datetime\n",
    "import seaborn as sns\n",
    "%matplotlib inline"
   ]
  },
  {
   "cell_type": "code",
   "execution_count": 2,
   "metadata": {},
   "outputs": [],
   "source": [
    "import tensorflow as tf"
   ]
  },
  {
   "cell_type": "markdown",
   "metadata": {},
   "source": [
    "## Data Read into dataframe df"
   ]
  },
  {
   "cell_type": "code",
   "execution_count": 3,
   "metadata": {},
   "outputs": [],
   "source": [
    "def read_csv(filepath):\n",
    "     if os.path.splitext(filepath)[1] != '.csv':\n",
    "          return  # or whatever\n",
    "     seps = [',', ';', '\\t']                    # ',' is default\n",
    "     encodings = [None, 'utf-8', 'ISO-8859-1']  # None is default\n",
    "     for sep in seps:\n",
    "         for encoding in encodings:\n",
    "              try:\n",
    "                  return pd.read_csv(filepath, encoding=encoding, sep=sep)\n",
    "              except Exception:  # should really be more specific \n",
    "                  pass\n",
    "     raise ValueError(\"{!r} is has no encoding in {} or seperator in {}\"\n",
    "                      .format(filepath, encodings, seps))"
   ]
  },
  {
   "cell_type": "code",
   "execution_count": 4,
   "metadata": {},
   "outputs": [],
   "source": [
    "df = read_csv('C:/Users/vasu.kumar/SCMS_Delivery_History_Dataset.csv')"
   ]
  },
  {
   "cell_type": "markdown",
   "metadata": {},
   "source": [
    "## Exploratory Data Analysis"
   ]
  },
  {
   "cell_type": "code",
   "execution_count": 5,
   "metadata": {
    "scrolled": true
   },
   "outputs": [
    {
     "name": "stdout",
     "output_type": "stream",
     "text": [
      "<class 'pandas.core.frame.DataFrame'>\n",
      "RangeIndex: 10324 entries, 0 to 10323\n",
      "Data columns (total 33 columns):\n",
      "ID                              10324 non-null int64\n",
      "Project Code                    10324 non-null object\n",
      "PQ #                            10324 non-null object\n",
      "PO / SO #                       10324 non-null object\n",
      "ASN/DN #                        10324 non-null object\n",
      "Country                         10324 non-null object\n",
      "Managed By                      10324 non-null object\n",
      "Fulfill Via                     10324 non-null object\n",
      "Vendor INCO Term                10324 non-null object\n",
      "Shipment Mode                   9964 non-null object\n",
      "PQ First Sent to Client Date    10324 non-null object\n",
      "PO Sent to Vendor Date          10324 non-null object\n",
      "Scheduled Delivery Date         10324 non-null object\n",
      "Delivered to Client Date        10324 non-null object\n",
      "Delivery Recorded Date          10324 non-null object\n",
      "Product Group                   10324 non-null object\n",
      "Sub Classification              10324 non-null object\n",
      "Vendor                          10324 non-null object\n",
      "Item Description                10324 non-null object\n",
      "Molecule/Test Type              10324 non-null object\n",
      "Brand                           10324 non-null object\n",
      "Dosage                          8588 non-null object\n",
      "Dosage Form                     10324 non-null object\n",
      "Unit of Measure (Per Pack)      10324 non-null int64\n",
      "Line Item Quantity              10324 non-null int64\n",
      "Line Item Value                 10324 non-null float64\n",
      "Pack Price                      10324 non-null float64\n",
      "Unit Price                      10324 non-null float64\n",
      "Manufacturing Site              10324 non-null object\n",
      "First Line Designation          10324 non-null object\n",
      "Weight (Kilograms)              10324 non-null object\n",
      "Freight Cost (USD)              10324 non-null object\n",
      "Line Item Insurance (USD)       10037 non-null float64\n",
      "dtypes: float64(4), int64(3), object(26)\n",
      "memory usage: 2.6+ MB\n"
     ]
    }
   ],
   "source": [
    "df.info()"
   ]
  },
  {
   "cell_type": "code",
   "execution_count": 6,
   "metadata": {
    "scrolled": true
   },
   "outputs": [
    {
     "data": {
      "text/plain": [
       "ID                                int64\n",
       "Project Code                     object\n",
       "PQ #                             object\n",
       "PO / SO #                        object\n",
       "ASN/DN #                         object\n",
       "Country                          object\n",
       "Managed By                       object\n",
       "Fulfill Via                      object\n",
       "Vendor INCO Term                 object\n",
       "Shipment Mode                    object\n",
       "PQ First Sent to Client Date     object\n",
       "PO Sent to Vendor Date           object\n",
       "Scheduled Delivery Date          object\n",
       "Delivered to Client Date         object\n",
       "Delivery Recorded Date           object\n",
       "Product Group                    object\n",
       "Sub Classification               object\n",
       "Vendor                           object\n",
       "Item Description                 object\n",
       "Molecule/Test Type               object\n",
       "Brand                            object\n",
       "Dosage                           object\n",
       "Dosage Form                      object\n",
       "Unit of Measure (Per Pack)        int64\n",
       "Line Item Quantity                int64\n",
       "Line Item Value                 float64\n",
       "Pack Price                      float64\n",
       "Unit Price                      float64\n",
       "Manufacturing Site               object\n",
       "First Line Designation           object\n",
       "Weight (Kilograms)               object\n",
       "Freight Cost (USD)               object\n",
       "Line Item Insurance (USD)       float64\n",
       "dtype: object"
      ]
     },
     "execution_count": 6,
     "metadata": {},
     "output_type": "execute_result"
    }
   ],
   "source": [
    "df.dtypes"
   ]
  },
  {
   "cell_type": "code",
   "execution_count": 7,
   "metadata": {
    "scrolled": true
   },
   "outputs": [
    {
     "data": {
      "text/plain": [
       "<matplotlib.axes._subplots.AxesSubplot at 0x1e0943cbb70>"
      ]
     },
     "execution_count": 7,
     "metadata": {},
     "output_type": "execute_result"
    },
    {
     "data": {
      "image/png": "[encoded data removed]",
      "text/plain": [
       "<Figure size 720x504 with 1 Axes>"
      ]
     },
     "metadata": {},
     "output_type": "display_data"
    }
   ],
   "source": [
    "sns.set_style('darkgrid')\n",
    "country = df['Country'].value_counts().head(10)\n",
    "fig, ax = plt.subplots(figsize=(10,7))\n",
    "country.plot.bar(ax=ax)"
   ]
  },
  {
   "cell_type": "markdown",
   "metadata": {},
   "source": [
    "The plot above shows that the maximum rows / orders are for Africa."
   ]
  },
  {
   "cell_type": "code",
   "execution_count": 8,
   "metadata": {},
   "outputs": [
    {
     "data": {
      "text/plain": [
       "Air            6113\n",
       "Truck          2830\n",
       "Air Charter     650\n",
       "Ocean           371\n",
       "Name: Shipment Mode, dtype: int64"
      ]
     },
     "execution_count": 8,
     "metadata": {},
     "output_type": "execute_result"
    }
   ],
   "source": [
    "df['Shipment Mode'].value_counts()"
   ]
  },
  {
   "cell_type": "code",
   "execution_count": 9,
   "metadata": {},
   "outputs": [
    {
     "data": {
      "text/plain": [
       "From RDC       5404\n",
       "Direct Drop    4920\n",
       "Name: Fulfill Via, dtype: int64"
      ]
     },
     "execution_count": 9,
     "metadata": {},
     "output_type": "execute_result"
    }
   ],
   "source": [
    "\n",
    "df['Fulfill Via'].value_counts()"
   ]
  },
  {
   "cell_type": "code",
   "execution_count": 10,
   "metadata": {},
   "outputs": [],
   "source": [
    "# Convert Date fields to DateTime data type\n",
    "df['PQ First Sent to Client Date'] = pd.to_datetime(df[df['PQ First Sent to Client Date']!='NA']\\\n",
    "                                ['PQ First Sent to Client Date'],errors='coerce',format='%m/%d/%Y')\n",
    "\n",
    "df['PO Sent to Vendor Date'] = pd.to_datetime(df[df['PO Sent to Vendor Date']!='NA']\\\n",
    "                                ['PO Sent to Vendor Date'],errors='coerce',format='%m/%d/%Y')\n",
    "\n",
    "df['Scheduled Delivery Date'] = pd.to_datetime(df[df['Scheduled Delivery Date']!='NA']\\\n",
    "                                ['Scheduled Delivery Date'],errors='coerce',format='%d-%b-%y')\n",
    "\n",
    "df['Delivered to Client Date'] = pd.to_datetime(df[df['Delivered to Client Date']!='NA']\\\n",
    "                                ['Delivered to Client Date'],errors='coerce',format='%d-%b-%y')\n",
    "\n",
    "df['Delivery Recorded Date'] = pd.to_datetime(df['Delivery Recorded Date'],errors='coerce',format='%d-%b-%y')"
   ]
  },
  {
   "cell_type": "code",
   "execution_count": 11,
   "metadata": {},
   "outputs": [],
   "source": [
    "df['Delivery Period'] = df['Delivery Recorded Date'].copy()\n",
    "df['Delivery Period'] = df['Delivery Period'].apply(lambda x: x.strftime('%Y%m'))"
   ]
  },
  {
   "cell_type": "code",
   "execution_count": 12,
   "metadata": {},
   "outputs": [
    {
     "data": {
      "text/plain": [
       "0 days     5514\n",
       "-1 days     223\n",
       "-3 days     133\n",
       "-2 days     131\n",
       "17 days     117\n",
       "7 days      108\n",
       "-5 days     106\n",
       "-6 days     101\n",
       "13 days     100\n",
       "6 days       99\n",
       "8 days       97\n",
       "-4 days      97\n",
       "2 days       94\n",
       "-7 days      93\n",
       "31 days      81\n",
       "Name: Schedule v Actual, dtype: int64"
      ]
     },
     "execution_count": 12,
     "metadata": {},
     "output_type": "execute_result"
    }
   ],
   "source": [
    "\n",
    "# Create feature to be predicted by identifying difference between scheduled and actual delivery\n",
    "df['Schedule v Actual'] = df['Scheduled Delivery Date'] - df['Delivery Recorded Date']\n",
    "df['Schedule v Actual'].value_counts().head(15)"
   ]
  },
  {
   "cell_type": "code",
   "execution_count": 13,
   "metadata": {},
   "outputs": [],
   "source": [
    "# Transform Schedule v. Actual column into a categorical int value removing trailing 'days' from values\n",
    "df['Schedule v Actual'] = (df['Schedule v Actual'] / np.timedelta64(1, 'D')).astype('category')"
   ]
  },
  {
   "cell_type": "code",
   "execution_count": 14,
   "metadata": {},
   "outputs": [
    {
     "data": {
      "text/plain": [
       "10324"
      ]
     },
     "execution_count": 14,
     "metadata": {},
     "output_type": "execute_result"
    }
   ],
   "source": [
    "len(df['Scheduled Delivery Date'])"
   ]
  },
  {
   "cell_type": "code",
   "execution_count": 15,
   "metadata": {},
   "outputs": [],
   "source": [
    "# Set all entries with 'Weight Captured Separately' as Null\n",
    "df['Weight (Kilograms)'].replace('Weight Captured Separately',0,inplace=True)"
   ]
  },
  {
   "cell_type": "code",
   "execution_count": 16,
   "metadata": {},
   "outputs": [],
   "source": [
    "# Replace string values with zero\n",
    "df.loc[df['Weight (Kilograms)'].str.contains('See',na=False), 'Weight (Kilograms)'] = 0"
   ]
  },
  {
   "cell_type": "code",
   "execution_count": 17,
   "metadata": {},
   "outputs": [],
   "source": [
    "# Update previously transformed zero values with mean value of data\n",
    "df['Weight (Kilograms)'] = df['Weight (Kilograms)'].astype('int64')\n",
    "df['Weight (Kilograms)'].replace(0,df[df['Weight (Kilograms)']!=0].mean(),inplace=True)"
   ]
  },
  {
   "cell_type": "code",
   "execution_count": 18,
   "metadata": {},
   "outputs": [
    {
     "data": {
      "text/plain": [
       "Freight Included in Commodity Cost    1442\n",
       "Invoiced Separately                    239\n",
       "9736.1                                  36\n",
       "6147.18                                 27\n",
       "See DN-304 (ID#:10589)                  16\n",
       "7445.8                                  16\n",
       "13398.06                                16\n",
       "9341.49                                 15\n",
       "See ASN-31750 (ID#:19272)               14\n",
       "See ASN-32231 (ID#:13648)               14\n",
       "See ASN-28279 (ID#:13547)               13\n",
       "See DN-3015 (ID#:82554)                 12\n",
       "7329.83                                 12\n",
       "25231.96                                11\n",
       "1211.48                                 11\n",
       "Name: Freight Cost (USD), dtype: int64"
      ]
     },
     "execution_count": 18,
     "metadata": {},
     "output_type": "execute_result"
    }
   ],
   "source": [
    "df['Freight Cost (USD)'].value_counts().head(15)"
   ]
  },
  {
   "cell_type": "code",
   "execution_count": 19,
   "metadata": {},
   "outputs": [],
   "source": [
    "# Apply same transformations to freight cost feature\n",
    "df['Freight Cost (USD)'].replace('Freight Included in Commodity Cost',0,inplace=True)\n",
    "df['Freight Cost (USD)'].replace('Invoiced Separately',0,inplace=True)\n",
    "df.loc[df['Freight Cost (USD)'].str.contains('See',na=False), 'Freight Cost (USD)'] = 0"
   ]
  },
  {
   "cell_type": "code",
   "execution_count": 20,
   "metadata": {},
   "outputs": [],
   "source": [
    "df['Freight Cost (USD)'] = df['Freight Cost (USD)'].astype('float64')\n",
    "df['Freight Cost (USD)'].replace(0,df[df['Freight Cost (USD)']!=0].mean(),inplace=True)"
   ]
  },
  {
   "cell_type": "code",
   "execution_count": 21,
   "metadata": {},
   "outputs": [],
   "source": [
    "df['Line Item Insurance (USD)'].fillna(0,inplace=True)"
   ]
  },
  {
   "cell_type": "code",
   "execution_count": 22,
   "metadata": {},
   "outputs": [
    {
     "data": {
      "image/png": "[encoded data removed]",
      "text/plain": [
       "<Figure size 720x504 with 1 Axes>"
      ]
     },
     "metadata": {},
     "output_type": "display_data"
    }
   ],
   "source": [
    "fig, ax = plt.subplots(figsize=(10,7))\n",
    "sns.boxplot(df['Shipment Mode'],df['Freight Cost (USD)'],ax=ax);"
   ]
  },
  {
   "cell_type": "code",
   "execution_count": 23,
   "metadata": {},
   "outputs": [
    {
     "data": {
      "text/plain": [
       "<matplotlib.axes._subplots.AxesSubplot at 0x1e094b40dd8>"
      ]
     },
     "execution_count": 23,
     "metadata": {},
     "output_type": "execute_result"
    },
    {
     "data": {
      "image/png": "[encoded data removed]",
      "text/plain": [
       "<Figure size 432x288 with 1 Axes>"
      ]
     },
     "metadata": {},
     "output_type": "display_data"
    }
   ],
   "source": [
    "df.groupby('Vendor')['Freight Cost (USD)'].sum().sort_values(ascending=False).head(10).plot.barh()"
   ]
  },
  {
   "cell_type": "code",
   "execution_count": 24,
   "metadata": {},
   "outputs": [
    {
     "data": {
      "image/png": "[encoded data removed]",
      "text/plain": [
       "<Figure size 720x504 with 1 Axes>"
      ]
     },
     "metadata": {},
     "output_type": "display_data"
    }
   ],
   "source": [
    "fig, ax = plt.subplots(figsize=(10,7))\n",
    "df.groupby('Country')['Freight Cost (USD)'].sum().sort_values(ascending=False).head(10).plot.bar(ax=ax);"
   ]
  },
  {
   "cell_type": "code",
   "execution_count": 25,
   "metadata": {},
   "outputs": [
    {
     "data": {
      "image/png": "[encoded data removed]",
      "text/plain": [
       "<Figure size 720x504 with 1 Axes>"
      ]
     },
     "metadata": {},
     "output_type": "display_data"
    }
   ],
   "source": [
    "dt = df.set_index('Delivery Recorded Date')['Freight Cost (USD)']\n",
    "fig, ax = plt.subplots(figsize=(10,7))\n",
    "dt.plot(title='Freight Cost (USD) over Time');"
   ]
  },
  {
   "cell_type": "code",
   "execution_count": 26,
   "metadata": {},
   "outputs": [
    {
     "data": {
      "text/plain": [
       "<matplotlib.axes._subplots.AxesSubplot at 0x1e093edfef0>"
      ]
     },
     "execution_count": 26,
     "metadata": {},
     "output_type": "execute_result"
    },
    {
     "data": {
      "image/png": "[encoded data removed]",
      "text/plain": [
       "<Figure size 720x504 with 1 Axes>"
      ]
     },
     "metadata": {},
     "output_type": "display_data"
    }
   ],
   "source": [
    "dtc = df[df['Country'].isin(df['Country'].value_counts().head(3).index)]\n",
    "dtc = dtc.set_index('Delivery Recorded Date')[['Freight Cost (USD)','Country']]\n",
    "fig, ax = plt.subplots(figsize=(10,7))\n",
    "sns.lineplot(x='Delivery Recorded Date',y='Freight Cost (USD)',data=dtc.reset_index(),hue='Country')"
   ]
  },
  {
   "cell_type": "code",
   "execution_count": 27,
   "metadata": {},
   "outputs": [
    {
     "name": "stdout",
     "output_type": "stream",
     "text": [
      "Project Code :  142\n",
      "PQ # :  1237\n",
      "PO / SO # :  6233\n",
      "ASN/DN # :  7030\n",
      "Country :  43\n",
      "Managed By :  4\n",
      "Fulfill Via :  2\n",
      "Vendor INCO Term :  8\n",
      "Shipment Mode :  4\n",
      "Product Group :  5\n",
      "Sub Classification :  6\n",
      "Vendor :  73\n",
      "Item Description :  184\n",
      "Molecule/Test Type :  86\n",
      "Brand :  48\n",
      "Dosage :  54\n",
      "Dosage Form :  17\n",
      "Manufacturing Site :  88\n",
      "First Line Designation :  2\n",
      "Delivery Period :  113\n"
     ]
    }
   ],
   "source": [
    "# Identify number of categorical features\n",
    "for d in df.columns:\n",
    "    if(df[d].dtype == 'O'):\n",
    "        print(d,': ', df[d].nunique())"
   ]
  },
  {
   "cell_type": "code",
   "execution_count": 28,
   "metadata": {},
   "outputs": [],
   "source": [
    "dt = df.select_dtypes(include='datetime')\n",
    "\n",
    "for col in dt.columns:\n",
    "    df[col+' day'] = pd.DatetimeIndex(df[col]).day\n",
    "    df[col+' month'] = pd.DatetimeIndex(df[col]).month\n",
    "    df[col+' year'] = pd.DatetimeIndex(df[col]).year\n",
    "    df.drop(col,axis=1,inplace=True)"
   ]
  },
  {
   "cell_type": "code",
   "execution_count": 29,
   "metadata": {},
   "outputs": [],
   "source": [
    "# Drop columns w/o relevant info from analysis\n",
    "df.drop(['ID','PO / SO #','ASN/DN #','PQ #'],axis=1,inplace=True)"
   ]
  },
  {
   "cell_type": "code",
   "execution_count": 30,
   "metadata": {},
   "outputs": [
    {
     "data": {
      "text/plain": [
       "0     3953\n",
       "2       29\n",
       "6       26\n",
       "1       23\n",
       "60      20\n",
       "Name: Weight (Kilograms), dtype: int64"
      ]
     },
     "execution_count": 30,
     "metadata": {},
     "output_type": "execute_result"
    }
   ],
   "source": [
    "df['Weight (Kilograms)'].value_counts().head()"
   ]
  },
  {
   "cell_type": "code",
   "execution_count": 31,
   "metadata": {},
   "outputs": [
    {
     "name": "stdout",
     "output_type": "stream",
     "text": [
      "Project Code :  142\n",
      "Country :  43\n",
      "Managed By :  4\n",
      "Fulfill Via :  2\n",
      "Vendor INCO Term :  8\n",
      "Shipment Mode :  4\n",
      "Product Group :  5\n",
      "Sub Classification :  6\n",
      "Vendor :  73\n",
      "Item Description :  184\n",
      "Molecule/Test Type :  86\n",
      "Brand :  48\n",
      "Dosage :  54\n",
      "Dosage Form :  17\n",
      "Manufacturing Site :  88\n",
      "First Line Designation :  2\n",
      "Delivery Period :  113\n"
     ]
    },
    {
     "data": {
      "text/html": [
       "<div>\n",
       "<style scoped>\n",
       "    .dataframe tbody tr th:only-of-type {\n",
       "        vertical-align: middle;\n",
       "    }\n",
       "\n",
       "    .dataframe tbody tr th {\n",
       "        vertical-align: top;\n",
       "    }\n",
       "\n",
       "    .dataframe thead th {\n",
       "        text-align: right;\n",
       "    }\n",
       "</style>\n",
       "<table border=\"1\" class=\"dataframe\">\n",
       "  <thead>\n",
       "    <tr style=\"text-align: right;\">\n",
       "      <th></th>\n",
       "      <th>Project Code</th>\n",
       "      <th>Country</th>\n",
       "      <th>Managed By</th>\n",
       "      <th>Fulfill Via</th>\n",
       "      <th>Vendor INCO Term</th>\n",
       "      <th>Shipment Mode</th>\n",
       "      <th>Product Group</th>\n",
       "      <th>Sub Classification</th>\n",
       "      <th>Vendor</th>\n",
       "      <th>Item Description</th>\n",
       "      <th>...</th>\n",
       "      <th>PO Sent to Vendor Date year</th>\n",
       "      <th>Scheduled Delivery Date day</th>\n",
       "      <th>Scheduled Delivery Date month</th>\n",
       "      <th>Scheduled Delivery Date year</th>\n",
       "      <th>Delivered to Client Date day</th>\n",
       "      <th>Delivered to Client Date month</th>\n",
       "      <th>Delivered to Client Date year</th>\n",
       "      <th>Delivery Recorded Date day</th>\n",
       "      <th>Delivery Recorded Date month</th>\n",
       "      <th>Delivery Recorded Date year</th>\n",
       "    </tr>\n",
       "  </thead>\n",
       "  <tbody>\n",
       "    <tr>\n",
       "      <th>0</th>\n",
       "      <td>100-CI-T01</td>\n",
       "      <td>Côte d'Ivoire</td>\n",
       "      <td>PMO - US</td>\n",
       "      <td>Direct Drop</td>\n",
       "      <td>EXW</td>\n",
       "      <td>Air</td>\n",
       "      <td>HRDT</td>\n",
       "      <td>HIV test</td>\n",
       "      <td>RANBAXY Fine Chemicals LTD.</td>\n",
       "      <td>HIV, Reveal G3 Rapid HIV-1 Antibody Test, 30 T...</td>\n",
       "      <td>...</td>\n",
       "      <td>NaN</td>\n",
       "      <td>2</td>\n",
       "      <td>6</td>\n",
       "      <td>2006</td>\n",
       "      <td>2</td>\n",
       "      <td>6</td>\n",
       "      <td>2006</td>\n",
       "      <td>2</td>\n",
       "      <td>6</td>\n",
       "      <td>2006</td>\n",
       "    </tr>\n",
       "    <tr>\n",
       "      <th>1</th>\n",
       "      <td>108-VN-T01</td>\n",
       "      <td>Vietnam</td>\n",
       "      <td>PMO - US</td>\n",
       "      <td>Direct Drop</td>\n",
       "      <td>EXW</td>\n",
       "      <td>Air</td>\n",
       "      <td>ARV</td>\n",
       "      <td>Pediatric</td>\n",
       "      <td>Aurobindo Pharma Limited</td>\n",
       "      <td>Nevirapine 10mg/ml, oral suspension, Bottle, 2...</td>\n",
       "      <td>...</td>\n",
       "      <td>NaN</td>\n",
       "      <td>14</td>\n",
       "      <td>11</td>\n",
       "      <td>2006</td>\n",
       "      <td>14</td>\n",
       "      <td>11</td>\n",
       "      <td>2006</td>\n",
       "      <td>14</td>\n",
       "      <td>11</td>\n",
       "      <td>2006</td>\n",
       "    </tr>\n",
       "    <tr>\n",
       "      <th>2</th>\n",
       "      <td>100-CI-T01</td>\n",
       "      <td>Côte d'Ivoire</td>\n",
       "      <td>PMO - US</td>\n",
       "      <td>Direct Drop</td>\n",
       "      <td>FCA</td>\n",
       "      <td>Air</td>\n",
       "      <td>HRDT</td>\n",
       "      <td>HIV test</td>\n",
       "      <td>Abbott GmbH &amp; Co. KG</td>\n",
       "      <td>HIV 1/2, Determine Complete HIV Kit, 100 Tests</td>\n",
       "      <td>...</td>\n",
       "      <td>NaN</td>\n",
       "      <td>27</td>\n",
       "      <td>8</td>\n",
       "      <td>2006</td>\n",
       "      <td>27</td>\n",
       "      <td>8</td>\n",
       "      <td>2006</td>\n",
       "      <td>27</td>\n",
       "      <td>8</td>\n",
       "      <td>2006</td>\n",
       "    </tr>\n",
       "    <tr>\n",
       "      <th>3</th>\n",
       "      <td>108-VN-T01</td>\n",
       "      <td>Vietnam</td>\n",
       "      <td>PMO - US</td>\n",
       "      <td>Direct Drop</td>\n",
       "      <td>EXW</td>\n",
       "      <td>Air</td>\n",
       "      <td>ARV</td>\n",
       "      <td>Adult</td>\n",
       "      <td>SUN PHARMACEUTICAL INDUSTRIES LTD (RANBAXY LAB...</td>\n",
       "      <td>Lamivudine 150mg, tablets, 60 Tabs</td>\n",
       "      <td>...</td>\n",
       "      <td>NaN</td>\n",
       "      <td>1</td>\n",
       "      <td>9</td>\n",
       "      <td>2006</td>\n",
       "      <td>1</td>\n",
       "      <td>9</td>\n",
       "      <td>2006</td>\n",
       "      <td>1</td>\n",
       "      <td>9</td>\n",
       "      <td>2006</td>\n",
       "    </tr>\n",
       "    <tr>\n",
       "      <th>4</th>\n",
       "      <td>108-VN-T01</td>\n",
       "      <td>Vietnam</td>\n",
       "      <td>PMO - US</td>\n",
       "      <td>Direct Drop</td>\n",
       "      <td>EXW</td>\n",
       "      <td>Air</td>\n",
       "      <td>ARV</td>\n",
       "      <td>Adult</td>\n",
       "      <td>Aurobindo Pharma Limited</td>\n",
       "      <td>Stavudine 30mg, capsules, 60 Caps</td>\n",
       "      <td>...</td>\n",
       "      <td>NaN</td>\n",
       "      <td>11</td>\n",
       "      <td>8</td>\n",
       "      <td>2006</td>\n",
       "      <td>11</td>\n",
       "      <td>8</td>\n",
       "      <td>2006</td>\n",
       "      <td>11</td>\n",
       "      <td>8</td>\n",
       "      <td>2006</td>\n",
       "    </tr>\n",
       "    <tr>\n",
       "      <th>5</th>\n",
       "      <td>112-NG-T01</td>\n",
       "      <td>Nigeria</td>\n",
       "      <td>PMO - US</td>\n",
       "      <td>Direct Drop</td>\n",
       "      <td>EXW</td>\n",
       "      <td>Air</td>\n",
       "      <td>ARV</td>\n",
       "      <td>Pediatric</td>\n",
       "      <td>Aurobindo Pharma Limited</td>\n",
       "      <td>Zidovudine 10mg/ml, oral solution, Bottle, 240 ml</td>\n",
       "      <td>...</td>\n",
       "      <td>NaN</td>\n",
       "      <td>28</td>\n",
       "      <td>9</td>\n",
       "      <td>2006</td>\n",
       "      <td>28</td>\n",
       "      <td>9</td>\n",
       "      <td>2006</td>\n",
       "      <td>28</td>\n",
       "      <td>9</td>\n",
       "      <td>2006</td>\n",
       "    </tr>\n",
       "    <tr>\n",
       "      <th>6</th>\n",
       "      <td>110-ZM-T01</td>\n",
       "      <td>Zambia</td>\n",
       "      <td>PMO - US</td>\n",
       "      <td>Direct Drop</td>\n",
       "      <td>DDU</td>\n",
       "      <td>Air</td>\n",
       "      <td>ARV</td>\n",
       "      <td>Pediatric</td>\n",
       "      <td>MERCK SHARP &amp; DOHME IDEA GMBH (FORMALLY MERCK ...</td>\n",
       "      <td>Efavirenz 200mg [Stocrin/Sustiva], capsule, 90...</td>\n",
       "      <td>...</td>\n",
       "      <td>NaN</td>\n",
       "      <td>8</td>\n",
       "      <td>1</td>\n",
       "      <td>2007</td>\n",
       "      <td>8</td>\n",
       "      <td>1</td>\n",
       "      <td>2007</td>\n",
       "      <td>8</td>\n",
       "      <td>1</td>\n",
       "      <td>2007</td>\n",
       "    </tr>\n",
       "    <tr>\n",
       "      <th>7</th>\n",
       "      <td>109-TZ-T01</td>\n",
       "      <td>Tanzania</td>\n",
       "      <td>PMO - US</td>\n",
       "      <td>Direct Drop</td>\n",
       "      <td>EXW</td>\n",
       "      <td>Air</td>\n",
       "      <td>ARV</td>\n",
       "      <td>Adult</td>\n",
       "      <td>Aurobindo Pharma Limited</td>\n",
       "      <td>Nevirapine 200mg, tablets, 60 Tabs</td>\n",
       "      <td>...</td>\n",
       "      <td>NaN</td>\n",
       "      <td>24</td>\n",
       "      <td>11</td>\n",
       "      <td>2006</td>\n",
       "      <td>24</td>\n",
       "      <td>11</td>\n",
       "      <td>2006</td>\n",
       "      <td>24</td>\n",
       "      <td>11</td>\n",
       "      <td>2006</td>\n",
       "    </tr>\n",
       "    <tr>\n",
       "      <th>8</th>\n",
       "      <td>112-NG-T01</td>\n",
       "      <td>Nigeria</td>\n",
       "      <td>PMO - US</td>\n",
       "      <td>Direct Drop</td>\n",
       "      <td>EXW</td>\n",
       "      <td>Air</td>\n",
       "      <td>ARV</td>\n",
       "      <td>Adult</td>\n",
       "      <td>Aurobindo Pharma Limited</td>\n",
       "      <td>Stavudine 30mg, capsules, 60 Caps</td>\n",
       "      <td>...</td>\n",
       "      <td>NaN</td>\n",
       "      <td>7</td>\n",
       "      <td>12</td>\n",
       "      <td>2006</td>\n",
       "      <td>7</td>\n",
       "      <td>12</td>\n",
       "      <td>2006</td>\n",
       "      <td>7</td>\n",
       "      <td>12</td>\n",
       "      <td>2006</td>\n",
       "    </tr>\n",
       "    <tr>\n",
       "      <th>9</th>\n",
       "      <td>110-ZM-T01</td>\n",
       "      <td>Zambia</td>\n",
       "      <td>PMO - US</td>\n",
       "      <td>Direct Drop</td>\n",
       "      <td>CIP</td>\n",
       "      <td>Air</td>\n",
       "      <td>ARV</td>\n",
       "      <td>Adult</td>\n",
       "      <td>ABBVIE LOGISTICS (FORMERLY ABBOTT LOGISTICS BV)</td>\n",
       "      <td>Lopinavir/Ritonavir 200/50mg [Aluvia], tablets...</td>\n",
       "      <td>...</td>\n",
       "      <td>2006.0</td>\n",
       "      <td>30</td>\n",
       "      <td>1</td>\n",
       "      <td>2007</td>\n",
       "      <td>30</td>\n",
       "      <td>1</td>\n",
       "      <td>2007</td>\n",
       "      <td>30</td>\n",
       "      <td>1</td>\n",
       "      <td>2007</td>\n",
       "    </tr>\n",
       "    <tr>\n",
       "      <th>10</th>\n",
       "      <td>110-ZM-T01</td>\n",
       "      <td>Zambia</td>\n",
       "      <td>PMO - US</td>\n",
       "      <td>Direct Drop</td>\n",
       "      <td>CIP</td>\n",
       "      <td>Air</td>\n",
       "      <td>ARV</td>\n",
       "      <td>Adult</td>\n",
       "      <td>ABBVIE LOGISTICS (FORMERLY ABBOTT LOGISTICS BV)</td>\n",
       "      <td>Lopinavir/Ritonavir 200/50mg [Aluvia], tablets...</td>\n",
       "      <td>...</td>\n",
       "      <td>2006.0</td>\n",
       "      <td>16</td>\n",
       "      <td>2</td>\n",
       "      <td>2007</td>\n",
       "      <td>16</td>\n",
       "      <td>2</td>\n",
       "      <td>2007</td>\n",
       "      <td>16</td>\n",
       "      <td>2</td>\n",
       "      <td>2007</td>\n",
       "    </tr>\n",
       "    <tr>\n",
       "      <th>11</th>\n",
       "      <td>110-ZM-T01</td>\n",
       "      <td>Zambia</td>\n",
       "      <td>PMO - US</td>\n",
       "      <td>Direct Drop</td>\n",
       "      <td>EXW</td>\n",
       "      <td>Air</td>\n",
       "      <td>HRDT</td>\n",
       "      <td>HIV test</td>\n",
       "      <td>Trinity Biotech, Plc</td>\n",
       "      <td>HIV 1/2, Uni-Gold HIV Kit, 20 Tests</td>\n",
       "      <td>...</td>\n",
       "      <td>NaN</td>\n",
       "      <td>8</td>\n",
       "      <td>1</td>\n",
       "      <td>2007</td>\n",
       "      <td>8</td>\n",
       "      <td>1</td>\n",
       "      <td>2007</td>\n",
       "      <td>8</td>\n",
       "      <td>1</td>\n",
       "      <td>2007</td>\n",
       "    </tr>\n",
       "    <tr>\n",
       "      <th>12</th>\n",
       "      <td>102-NG-T01</td>\n",
       "      <td>Nigeria</td>\n",
       "      <td>PMO - US</td>\n",
       "      <td>Direct Drop</td>\n",
       "      <td>EXW</td>\n",
       "      <td>Air</td>\n",
       "      <td>HRDT</td>\n",
       "      <td>HIV test</td>\n",
       "      <td>EY Laboratories</td>\n",
       "      <td>HIV 1/2, InstantChek HIV 1+2 Kit, 100 Tests</td>\n",
       "      <td>...</td>\n",
       "      <td>NaN</td>\n",
       "      <td>10</td>\n",
       "      <td>1</td>\n",
       "      <td>2007</td>\n",
       "      <td>10</td>\n",
       "      <td>1</td>\n",
       "      <td>2007</td>\n",
       "      <td>10</td>\n",
       "      <td>1</td>\n",
       "      <td>2007</td>\n",
       "    </tr>\n",
       "    <tr>\n",
       "      <th>13</th>\n",
       "      <td>107-RW-T01</td>\n",
       "      <td>Rwanda</td>\n",
       "      <td>PMO - US</td>\n",
       "      <td>Direct Drop</td>\n",
       "      <td>EXW</td>\n",
       "      <td>Air</td>\n",
       "      <td>ARV</td>\n",
       "      <td>Adult</td>\n",
       "      <td>CIPLA LIMITED</td>\n",
       "      <td>Lamivudine/Zidovudine 150/300mg, tablets, 60 Tabs</td>\n",
       "      <td>...</td>\n",
       "      <td>2006.0</td>\n",
       "      <td>27</td>\n",
       "      <td>2</td>\n",
       "      <td>2007</td>\n",
       "      <td>27</td>\n",
       "      <td>2</td>\n",
       "      <td>2007</td>\n",
       "      <td>27</td>\n",
       "      <td>2</td>\n",
       "      <td>2007</td>\n",
       "    </tr>\n",
       "    <tr>\n",
       "      <th>14</th>\n",
       "      <td>106-HT-T01</td>\n",
       "      <td>Haiti</td>\n",
       "      <td>PMO - US</td>\n",
       "      <td>Direct Drop</td>\n",
       "      <td>EXW</td>\n",
       "      <td>Air</td>\n",
       "      <td>HRDT</td>\n",
       "      <td>HIV test</td>\n",
       "      <td>Abbott GmbH &amp; Co. KG</td>\n",
       "      <td>HIV 1/2, Determine Complete HIV Kit, 100 Tests</td>\n",
       "      <td>...</td>\n",
       "      <td>NaN</td>\n",
       "      <td>18</td>\n",
       "      <td>1</td>\n",
       "      <td>2007</td>\n",
       "      <td>18</td>\n",
       "      <td>1</td>\n",
       "      <td>2007</td>\n",
       "      <td>18</td>\n",
       "      <td>1</td>\n",
       "      <td>2007</td>\n",
       "    </tr>\n",
       "  </tbody>\n",
       "</table>\n",
       "<p>15 rows × 41 columns</p>\n",
       "</div>"
      ],
      "text/plain": [
       "   Project Code        Country Managed By  Fulfill Via Vendor INCO Term  \\\n",
       "0    100-CI-T01  Côte d'Ivoire   PMO - US  Direct Drop              EXW   \n",
       "1    108-VN-T01        Vietnam   PMO - US  Direct Drop              EXW   \n",
       "2    100-CI-T01  Côte d'Ivoire   PMO - US  Direct Drop              FCA   \n",
       "3    108-VN-T01        Vietnam   PMO - US  Direct Drop              EXW   \n",
       "4    108-VN-T01        Vietnam   PMO - US  Direct Drop              EXW   \n",
       "5    112-NG-T01        Nigeria   PMO - US  Direct Drop              EXW   \n",
       "6    110-ZM-T01         Zambia   PMO - US  Direct Drop              DDU   \n",
       "7    109-TZ-T01       Tanzania   PMO - US  Direct Drop              EXW   \n",
       "8    112-NG-T01        Nigeria   PMO - US  Direct Drop              EXW   \n",
       "9    110-ZM-T01         Zambia   PMO - US  Direct Drop              CIP   \n",
       "10   110-ZM-T01         Zambia   PMO - US  Direct Drop              CIP   \n",
       "11   110-ZM-T01         Zambia   PMO - US  Direct Drop              EXW   \n",
       "12   102-NG-T01        Nigeria   PMO - US  Direct Drop              EXW   \n",
       "13   107-RW-T01         Rwanda   PMO - US  Direct Drop              EXW   \n",
       "14   106-HT-T01          Haiti   PMO - US  Direct Drop              EXW   \n",
       "\n",
       "   Shipment Mode Product Group Sub Classification  \\\n",
       "0            Air          HRDT           HIV test   \n",
       "1            Air           ARV          Pediatric   \n",
       "2            Air          HRDT           HIV test   \n",
       "3            Air           ARV              Adult   \n",
       "4            Air           ARV              Adult   \n",
       "5            Air           ARV          Pediatric   \n",
       "6            Air           ARV          Pediatric   \n",
       "7            Air           ARV              Adult   \n",
       "8            Air           ARV              Adult   \n",
       "9            Air           ARV              Adult   \n",
       "10           Air           ARV              Adult   \n",
       "11           Air          HRDT           HIV test   \n",
       "12           Air          HRDT           HIV test   \n",
       "13           Air           ARV              Adult   \n",
       "14           Air          HRDT           HIV test   \n",
       "\n",
       "                                               Vendor  \\\n",
       "0                         RANBAXY Fine Chemicals LTD.   \n",
       "1                            Aurobindo Pharma Limited   \n",
       "2                                Abbott GmbH & Co. KG   \n",
       "3   SUN PHARMACEUTICAL INDUSTRIES LTD (RANBAXY LAB...   \n",
       "4                            Aurobindo Pharma Limited   \n",
       "5                            Aurobindo Pharma Limited   \n",
       "6   MERCK SHARP & DOHME IDEA GMBH (FORMALLY MERCK ...   \n",
       "7                            Aurobindo Pharma Limited   \n",
       "8                            Aurobindo Pharma Limited   \n",
       "9     ABBVIE LOGISTICS (FORMERLY ABBOTT LOGISTICS BV)   \n",
       "10    ABBVIE LOGISTICS (FORMERLY ABBOTT LOGISTICS BV)   \n",
       "11                               Trinity Biotech, Plc   \n",
       "12                                    EY Laboratories   \n",
       "13                                      CIPLA LIMITED   \n",
       "14                               Abbott GmbH & Co. KG   \n",
       "\n",
       "                                     Item Description  ...  \\\n",
       "0   HIV, Reveal G3 Rapid HIV-1 Antibody Test, 30 T...  ...   \n",
       "1   Nevirapine 10mg/ml, oral suspension, Bottle, 2...  ...   \n",
       "2      HIV 1/2, Determine Complete HIV Kit, 100 Tests  ...   \n",
       "3                  Lamivudine 150mg, tablets, 60 Tabs  ...   \n",
       "4                   Stavudine 30mg, capsules, 60 Caps  ...   \n",
       "5   Zidovudine 10mg/ml, oral solution, Bottle, 240 ml  ...   \n",
       "6   Efavirenz 200mg [Stocrin/Sustiva], capsule, 90...  ...   \n",
       "7                  Nevirapine 200mg, tablets, 60 Tabs  ...   \n",
       "8                   Stavudine 30mg, capsules, 60 Caps  ...   \n",
       "9   Lopinavir/Ritonavir 200/50mg [Aluvia], tablets...  ...   \n",
       "10  Lopinavir/Ritonavir 200/50mg [Aluvia], tablets...  ...   \n",
       "11                HIV 1/2, Uni-Gold HIV Kit, 20 Tests  ...   \n",
       "12        HIV 1/2, InstantChek HIV 1+2 Kit, 100 Tests  ...   \n",
       "13  Lamivudine/Zidovudine 150/300mg, tablets, 60 Tabs  ...   \n",
       "14     HIV 1/2, Determine Complete HIV Kit, 100 Tests  ...   \n",
       "\n",
       "   PO Sent to Vendor Date year Scheduled Delivery Date day  \\\n",
       "0                          NaN                           2   \n",
       "1                          NaN                          14   \n",
       "2                          NaN                          27   \n",
       "3                          NaN                           1   \n",
       "4                          NaN                          11   \n",
       "5                          NaN                          28   \n",
       "6                          NaN                           8   \n",
       "7                          NaN                          24   \n",
       "8                          NaN                           7   \n",
       "9                       2006.0                          30   \n",
       "10                      2006.0                          16   \n",
       "11                         NaN                           8   \n",
       "12                         NaN                          10   \n",
       "13                      2006.0                          27   \n",
       "14                         NaN                          18   \n",
       "\n",
       "   Scheduled Delivery Date month Scheduled Delivery Date year  \\\n",
       "0                              6                         2006   \n",
       "1                             11                         2006   \n",
       "2                              8                         2006   \n",
       "3                              9                         2006   \n",
       "4                              8                         2006   \n",
       "5                              9                         2006   \n",
       "6                              1                         2007   \n",
       "7                             11                         2006   \n",
       "8                             12                         2006   \n",
       "9                              1                         2007   \n",
       "10                             2                         2007   \n",
       "11                             1                         2007   \n",
       "12                             1                         2007   \n",
       "13                             2                         2007   \n",
       "14                             1                         2007   \n",
       "\n",
       "    Delivered to Client Date day  Delivered to Client Date month  \\\n",
       "0                              2                               6   \n",
       "1                             14                              11   \n",
       "2                             27                               8   \n",
       "3                              1                               9   \n",
       "4                             11                               8   \n",
       "5                             28                               9   \n",
       "6                              8                               1   \n",
       "7                             24                              11   \n",
       "8                              7                              12   \n",
       "9                             30                               1   \n",
       "10                            16                               2   \n",
       "11                             8                               1   \n",
       "12                            10                               1   \n",
       "13                            27                               2   \n",
       "14                            18                               1   \n",
       "\n",
       "    Delivered to Client Date year  Delivery Recorded Date day  \\\n",
       "0                            2006                           2   \n",
       "1                            2006                          14   \n",
       "2                            2006                          27   \n",
       "3                            2006                           1   \n",
       "4                            2006                          11   \n",
       "5                            2006                          28   \n",
       "6                            2007                           8   \n",
       "7                            2006                          24   \n",
       "8                            2006                           7   \n",
       "9                            2007                          30   \n",
       "10                           2007                          16   \n",
       "11                           2007                           8   \n",
       "12                           2007                          10   \n",
       "13                           2007                          27   \n",
       "14                           2007                          18   \n",
       "\n",
       "    Delivery Recorded Date month Delivery Recorded Date year  \n",
       "0                              6                        2006  \n",
       "1                             11                        2006  \n",
       "2                              8                        2006  \n",
       "3                              9                        2006  \n",
       "4                              8                        2006  \n",
       "5                              9                        2006  \n",
       "6                              1                        2007  \n",
       "7                             11                        2006  \n",
       "8                             12                        2006  \n",
       "9                              1                        2007  \n",
       "10                             2                        2007  \n",
       "11                             1                        2007  \n",
       "12                             1                        2007  \n",
       "13                             2                        2007  \n",
       "14                             1                        2007  \n",
       "\n",
       "[15 rows x 41 columns]"
      ]
     },
     "execution_count": 31,
     "metadata": {},
     "output_type": "execute_result"
    }
   ],
   "source": [
    "# Identify number of categorical features\n",
    "for d in df.columns:\n",
    "    if(df[d].dtype == 'O'):\n",
    "        print(d,': ', df[d].nunique())\n",
    "\n",
    "df.head(15)"
   ]
  },
  {
   "cell_type": "code",
   "execution_count": 32,
   "metadata": {},
   "outputs": [],
   "source": [
    "dt = df.select_dtypes(include='datetime')\n",
    "\n",
    "for col in dt.columns:\n",
    "    df[col+' day'] = pd.DatetimeIndex(df[col]).day\n",
    "    df[col+' month'] = pd.DatetimeIndex(df[col]).month\n",
    "    df[col+' year'] = pd.DatetimeIndex(df[col]).year\n",
    "    df.drop(col,axis=1,inplace=True)"
   ]
  },
  {
   "cell_type": "code",
   "execution_count": 33,
   "metadata": {},
   "outputs": [],
   "source": [
    "# Encode categorical fields as binary \n",
    "df_obj = pd.get_dummies(df,sparse=False,columns=df.select_dtypes(include='object').columns)"
   ]
  },
  {
   "cell_type": "code",
   "execution_count": 34,
   "metadata": {},
   "outputs": [
    {
     "data": {
      "text/html": [
       "<div>\n",
       "<style scoped>\n",
       "    .dataframe tbody tr th:only-of-type {\n",
       "        vertical-align: middle;\n",
       "    }\n",
       "\n",
       "    .dataframe tbody tr th {\n",
       "        vertical-align: top;\n",
       "    }\n",
       "\n",
       "    .dataframe thead th {\n",
       "        text-align: right;\n",
       "    }\n",
       "</style>\n",
       "<table border=\"1\" class=\"dataframe\">\n",
       "  <thead>\n",
       "    <tr style=\"text-align: right;\">\n",
       "      <th></th>\n",
       "      <th>Unit of Measure (Per Pack)</th>\n",
       "      <th>Line Item Quantity</th>\n",
       "      <th>Line Item Value</th>\n",
       "      <th>Pack Price</th>\n",
       "      <th>Unit Price</th>\n",
       "      <th>Weight (Kilograms)</th>\n",
       "      <th>Freight Cost (USD)</th>\n",
       "      <th>Line Item Insurance (USD)</th>\n",
       "      <th>Schedule v Actual</th>\n",
       "      <th>PQ First Sent to Client Date day</th>\n",
       "      <th>...</th>\n",
       "      <th>Delivery Period_201412</th>\n",
       "      <th>Delivery Period_201501</th>\n",
       "      <th>Delivery Period_201502</th>\n",
       "      <th>Delivery Period_201503</th>\n",
       "      <th>Delivery Period_201504</th>\n",
       "      <th>Delivery Period_201505</th>\n",
       "      <th>Delivery Period_201506</th>\n",
       "      <th>Delivery Period_201507</th>\n",
       "      <th>Delivery Period_201508</th>\n",
       "      <th>Delivery Period_201509</th>\n",
       "    </tr>\n",
       "  </thead>\n",
       "  <tbody>\n",
       "    <tr>\n",
       "      <th>0</th>\n",
       "      <td>30</td>\n",
       "      <td>19</td>\n",
       "      <td>551.0</td>\n",
       "      <td>29.00</td>\n",
       "      <td>0.97</td>\n",
       "      <td>13</td>\n",
       "      <td>780.34</td>\n",
       "      <td>0.0</td>\n",
       "      <td>0.0</td>\n",
       "      <td>NaN</td>\n",
       "      <td>...</td>\n",
       "      <td>0</td>\n",
       "      <td>0</td>\n",
       "      <td>0</td>\n",
       "      <td>0</td>\n",
       "      <td>0</td>\n",
       "      <td>0</td>\n",
       "      <td>0</td>\n",
       "      <td>0</td>\n",
       "      <td>0</td>\n",
       "      <td>0</td>\n",
       "    </tr>\n",
       "    <tr>\n",
       "      <th>1</th>\n",
       "      <td>240</td>\n",
       "      <td>1000</td>\n",
       "      <td>6200.0</td>\n",
       "      <td>6.20</td>\n",
       "      <td>0.03</td>\n",
       "      <td>358</td>\n",
       "      <td>4521.50</td>\n",
       "      <td>0.0</td>\n",
       "      <td>0.0</td>\n",
       "      <td>NaN</td>\n",
       "      <td>...</td>\n",
       "      <td>0</td>\n",
       "      <td>0</td>\n",
       "      <td>0</td>\n",
       "      <td>0</td>\n",
       "      <td>0</td>\n",
       "      <td>0</td>\n",
       "      <td>0</td>\n",
       "      <td>0</td>\n",
       "      <td>0</td>\n",
       "      <td>0</td>\n",
       "    </tr>\n",
       "    <tr>\n",
       "      <th>2</th>\n",
       "      <td>100</td>\n",
       "      <td>500</td>\n",
       "      <td>40000.0</td>\n",
       "      <td>80.00</td>\n",
       "      <td>0.80</td>\n",
       "      <td>171</td>\n",
       "      <td>1653.78</td>\n",
       "      <td>0.0</td>\n",
       "      <td>0.0</td>\n",
       "      <td>NaN</td>\n",
       "      <td>...</td>\n",
       "      <td>0</td>\n",
       "      <td>0</td>\n",
       "      <td>0</td>\n",
       "      <td>0</td>\n",
       "      <td>0</td>\n",
       "      <td>0</td>\n",
       "      <td>0</td>\n",
       "      <td>0</td>\n",
       "      <td>0</td>\n",
       "      <td>0</td>\n",
       "    </tr>\n",
       "    <tr>\n",
       "      <th>3</th>\n",
       "      <td>60</td>\n",
       "      <td>31920</td>\n",
       "      <td>127360.8</td>\n",
       "      <td>3.99</td>\n",
       "      <td>0.07</td>\n",
       "      <td>1855</td>\n",
       "      <td>16007.06</td>\n",
       "      <td>0.0</td>\n",
       "      <td>0.0</td>\n",
       "      <td>NaN</td>\n",
       "      <td>...</td>\n",
       "      <td>0</td>\n",
       "      <td>0</td>\n",
       "      <td>0</td>\n",
       "      <td>0</td>\n",
       "      <td>0</td>\n",
       "      <td>0</td>\n",
       "      <td>0</td>\n",
       "      <td>0</td>\n",
       "      <td>0</td>\n",
       "      <td>0</td>\n",
       "    </tr>\n",
       "    <tr>\n",
       "      <th>4</th>\n",
       "      <td>60</td>\n",
       "      <td>38000</td>\n",
       "      <td>121600.0</td>\n",
       "      <td>3.20</td>\n",
       "      <td>0.05</td>\n",
       "      <td>7590</td>\n",
       "      <td>45450.08</td>\n",
       "      <td>0.0</td>\n",
       "      <td>0.0</td>\n",
       "      <td>NaN</td>\n",
       "      <td>...</td>\n",
       "      <td>0</td>\n",
       "      <td>0</td>\n",
       "      <td>0</td>\n",
       "      <td>0</td>\n",
       "      <td>0</td>\n",
       "      <td>0</td>\n",
       "      <td>0</td>\n",
       "      <td>0</td>\n",
       "      <td>0</td>\n",
       "      <td>0</td>\n",
       "    </tr>\n",
       "  </tbody>\n",
       "</table>\n",
       "<p>5 rows × 903 columns</p>\n",
       "</div>"
      ],
      "text/plain": [
       "   Unit of Measure (Per Pack)  Line Item Quantity  Line Item Value  \\\n",
       "0                          30                  19            551.0   \n",
       "1                         240                1000           6200.0   \n",
       "2                         100                 500          40000.0   \n",
       "3                          60               31920         127360.8   \n",
       "4                          60               38000         121600.0   \n",
       "\n",
       "   Pack Price  Unit Price  Weight (Kilograms)  Freight Cost (USD)  \\\n",
       "0       29.00        0.97                  13              780.34   \n",
       "1        6.20        0.03                 358             4521.50   \n",
       "2       80.00        0.80                 171             1653.78   \n",
       "3        3.99        0.07                1855            16007.06   \n",
       "4        3.20        0.05                7590            45450.08   \n",
       "\n",
       "   Line Item Insurance (USD) Schedule v Actual  \\\n",
       "0                        0.0               0.0   \n",
       "1                        0.0               0.0   \n",
       "2                        0.0               0.0   \n",
       "3                        0.0               0.0   \n",
       "4                        0.0               0.0   \n",
       "\n",
       "   PQ First Sent to Client Date day  ...  Delivery Period_201412  \\\n",
       "0                               NaN  ...                       0   \n",
       "1                               NaN  ...                       0   \n",
       "2                               NaN  ...                       0   \n",
       "3                               NaN  ...                       0   \n",
       "4                               NaN  ...                       0   \n",
       "\n",
       "   Delivery Period_201501  Delivery Period_201502  Delivery Period_201503  \\\n",
       "0                       0                       0                       0   \n",
       "1                       0                       0                       0   \n",
       "2                       0                       0                       0   \n",
       "3                       0                       0                       0   \n",
       "4                       0                       0                       0   \n",
       "\n",
       "   Delivery Period_201504  Delivery Period_201505  Delivery Period_201506  \\\n",
       "0                       0                       0                       0   \n",
       "1                       0                       0                       0   \n",
       "2                       0                       0                       0   \n",
       "3                       0                       0                       0   \n",
       "4                       0                       0                       0   \n",
       "\n",
       "   Delivery Period_201507  Delivery Period_201508  Delivery Period_201509  \n",
       "0                       0                       0                       0  \n",
       "1                       0                       0                       0  \n",
       "2                       0                       0                       0  \n",
       "3                       0                       0                       0  \n",
       "4                       0                       0                       0  \n",
       "\n",
       "[5 rows x 903 columns]"
      ]
     },
     "execution_count": 34,
     "metadata": {},
     "output_type": "execute_result"
    }
   ],
   "source": [
    "df_obj.head()"
   ]
  },
  {
   "cell_type": "code",
   "execution_count": 35,
   "metadata": {},
   "outputs": [
    {
     "data": {
      "text/html": [
       "<div>\n",
       "<style scoped>\n",
       "    .dataframe tbody tr th:only-of-type {\n",
       "        vertical-align: middle;\n",
       "    }\n",
       "\n",
       "    .dataframe tbody tr th {\n",
       "        vertical-align: top;\n",
       "    }\n",
       "\n",
       "    .dataframe thead th {\n",
       "        text-align: right;\n",
       "    }\n",
       "</style>\n",
       "<table border=\"1\" class=\"dataframe\">\n",
       "  <thead>\n",
       "    <tr style=\"text-align: right;\">\n",
       "      <th></th>\n",
       "      <th>Line Item Value</th>\n",
       "      <th>Pack Price</th>\n",
       "      <th>Unit Price</th>\n",
       "      <th>Freight Cost (USD)</th>\n",
       "      <th>Line Item Insurance (USD)</th>\n",
       "      <th>PQ First Sent to Client Date day</th>\n",
       "      <th>PQ First Sent to Client Date month</th>\n",
       "      <th>PQ First Sent to Client Date year</th>\n",
       "      <th>PO Sent to Vendor Date day</th>\n",
       "      <th>PO Sent to Vendor Date month</th>\n",
       "      <th>PO Sent to Vendor Date year</th>\n",
       "    </tr>\n",
       "  </thead>\n",
       "  <tbody>\n",
       "    <tr>\n",
       "      <th>0</th>\n",
       "      <td>551.0</td>\n",
       "      <td>29.00</td>\n",
       "      <td>0.97</td>\n",
       "      <td>780.34</td>\n",
       "      <td>0.0</td>\n",
       "      <td>NaN</td>\n",
       "      <td>NaN</td>\n",
       "      <td>NaN</td>\n",
       "      <td>NaN</td>\n",
       "      <td>NaN</td>\n",
       "      <td>NaN</td>\n",
       "    </tr>\n",
       "    <tr>\n",
       "      <th>1</th>\n",
       "      <td>6200.0</td>\n",
       "      <td>6.20</td>\n",
       "      <td>0.03</td>\n",
       "      <td>4521.50</td>\n",
       "      <td>0.0</td>\n",
       "      <td>NaN</td>\n",
       "      <td>NaN</td>\n",
       "      <td>NaN</td>\n",
       "      <td>NaN</td>\n",
       "      <td>NaN</td>\n",
       "      <td>NaN</td>\n",
       "    </tr>\n",
       "    <tr>\n",
       "      <th>2</th>\n",
       "      <td>40000.0</td>\n",
       "      <td>80.00</td>\n",
       "      <td>0.80</td>\n",
       "      <td>1653.78</td>\n",
       "      <td>0.0</td>\n",
       "      <td>NaN</td>\n",
       "      <td>NaN</td>\n",
       "      <td>NaN</td>\n",
       "      <td>NaN</td>\n",
       "      <td>NaN</td>\n",
       "      <td>NaN</td>\n",
       "    </tr>\n",
       "    <tr>\n",
       "      <th>3</th>\n",
       "      <td>127360.8</td>\n",
       "      <td>3.99</td>\n",
       "      <td>0.07</td>\n",
       "      <td>16007.06</td>\n",
       "      <td>0.0</td>\n",
       "      <td>NaN</td>\n",
       "      <td>NaN</td>\n",
       "      <td>NaN</td>\n",
       "      <td>NaN</td>\n",
       "      <td>NaN</td>\n",
       "      <td>NaN</td>\n",
       "    </tr>\n",
       "    <tr>\n",
       "      <th>4</th>\n",
       "      <td>121600.0</td>\n",
       "      <td>3.20</td>\n",
       "      <td>0.05</td>\n",
       "      <td>45450.08</td>\n",
       "      <td>0.0</td>\n",
       "      <td>NaN</td>\n",
       "      <td>NaN</td>\n",
       "      <td>NaN</td>\n",
       "      <td>NaN</td>\n",
       "      <td>NaN</td>\n",
       "      <td>NaN</td>\n",
       "    </tr>\n",
       "  </tbody>\n",
       "</table>\n",
       "</div>"
      ],
      "text/plain": [
       "   Line Item Value  Pack Price  Unit Price  Freight Cost (USD)  \\\n",
       "0            551.0       29.00        0.97              780.34   \n",
       "1           6200.0        6.20        0.03             4521.50   \n",
       "2          40000.0       80.00        0.80             1653.78   \n",
       "3         127360.8        3.99        0.07            16007.06   \n",
       "4         121600.0        3.20        0.05            45450.08   \n",
       "\n",
       "   Line Item Insurance (USD)  PQ First Sent to Client Date day  \\\n",
       "0                        0.0                               NaN   \n",
       "1                        0.0                               NaN   \n",
       "2                        0.0                               NaN   \n",
       "3                        0.0                               NaN   \n",
       "4                        0.0                               NaN   \n",
       "\n",
       "   PQ First Sent to Client Date month  PQ First Sent to Client Date year  \\\n",
       "0                                 NaN                                NaN   \n",
       "1                                 NaN                                NaN   \n",
       "2                                 NaN                                NaN   \n",
       "3                                 NaN                                NaN   \n",
       "4                                 NaN                                NaN   \n",
       "\n",
       "   PO Sent to Vendor Date day  PO Sent to Vendor Date month  \\\n",
       "0                         NaN                           NaN   \n",
       "1                         NaN                           NaN   \n",
       "2                         NaN                           NaN   \n",
       "3                         NaN                           NaN   \n",
       "4                         NaN                           NaN   \n",
       "\n",
       "   PO Sent to Vendor Date year  \n",
       "0                          NaN  \n",
       "1                          NaN  \n",
       "2                          NaN  \n",
       "3                          NaN  \n",
       "4                          NaN  "
      ]
     },
     "execution_count": 35,
     "metadata": {},
     "output_type": "execute_result"
    }
   ],
   "source": [
    "nums = df_obj.select_dtypes(include = 'float64')\n",
    "nums.head()"
   ]
  },
  {
   "cell_type": "code",
   "execution_count": 36,
   "metadata": {},
   "outputs": [],
   "source": [
    "# Normalize all numerical values for better model performance\n",
    "from sklearn.preprocessing import normalize\n",
    "\n",
    "for col in nums.columns:\n",
    "    df_obj[col]=(df_obj[col]-df_obj[col].min())/(df_obj[col].max()-df_obj[col].min())"
   ]
  },
  {
   "cell_type": "code",
   "execution_count": 37,
   "metadata": {},
   "outputs": [
    {
     "data": {
      "text/html": [
       "<div>\n",
       "<style scoped>\n",
       "    .dataframe tbody tr th:only-of-type {\n",
       "        vertical-align: middle;\n",
       "    }\n",
       "\n",
       "    .dataframe tbody tr th {\n",
       "        vertical-align: top;\n",
       "    }\n",
       "\n",
       "    .dataframe thead th {\n",
       "        text-align: right;\n",
       "    }\n",
       "</style>\n",
       "<table border=\"1\" class=\"dataframe\">\n",
       "  <thead>\n",
       "    <tr style=\"text-align: right;\">\n",
       "      <th></th>\n",
       "      <th>Line Item Value</th>\n",
       "      <th>Pack Price</th>\n",
       "      <th>Unit Price</th>\n",
       "      <th>Freight Cost (USD)</th>\n",
       "      <th>Line Item Insurance (USD)</th>\n",
       "      <th>PQ First Sent to Client Date day</th>\n",
       "      <th>PQ First Sent to Client Date month</th>\n",
       "      <th>PQ First Sent to Client Date year</th>\n",
       "      <th>PO Sent to Vendor Date day</th>\n",
       "      <th>PO Sent to Vendor Date month</th>\n",
       "      <th>PO Sent to Vendor Date year</th>\n",
       "    </tr>\n",
       "  </thead>\n",
       "  <tbody>\n",
       "    <tr>\n",
       "      <th>0</th>\n",
       "      <td>0.000093</td>\n",
       "      <td>0.021551</td>\n",
       "      <td>0.004065</td>\n",
       "      <td>0.002694</td>\n",
       "      <td>0.0</td>\n",
       "      <td>NaN</td>\n",
       "      <td>NaN</td>\n",
       "      <td>NaN</td>\n",
       "      <td>NaN</td>\n",
       "      <td>NaN</td>\n",
       "      <td>NaN</td>\n",
       "    </tr>\n",
       "    <tr>\n",
       "      <th>1</th>\n",
       "      <td>0.001042</td>\n",
       "      <td>0.004607</td>\n",
       "      <td>0.000126</td>\n",
       "      <td>0.015610</td>\n",
       "      <td>0.0</td>\n",
       "      <td>NaN</td>\n",
       "      <td>NaN</td>\n",
       "      <td>NaN</td>\n",
       "      <td>NaN</td>\n",
       "      <td>NaN</td>\n",
       "      <td>NaN</td>\n",
       "    </tr>\n",
       "    <tr>\n",
       "      <th>2</th>\n",
       "      <td>0.006720</td>\n",
       "      <td>0.059451</td>\n",
       "      <td>0.003352</td>\n",
       "      <td>0.005710</td>\n",
       "      <td>0.0</td>\n",
       "      <td>NaN</td>\n",
       "      <td>NaN</td>\n",
       "      <td>NaN</td>\n",
       "      <td>NaN</td>\n",
       "      <td>NaN</td>\n",
       "      <td>NaN</td>\n",
       "    </tr>\n",
       "    <tr>\n",
       "      <th>3</th>\n",
       "      <td>0.021398</td>\n",
       "      <td>0.002965</td>\n",
       "      <td>0.000293</td>\n",
       "      <td>0.055263</td>\n",
       "      <td>0.0</td>\n",
       "      <td>NaN</td>\n",
       "      <td>NaN</td>\n",
       "      <td>NaN</td>\n",
       "      <td>NaN</td>\n",
       "      <td>NaN</td>\n",
       "      <td>NaN</td>\n",
       "    </tr>\n",
       "    <tr>\n",
       "      <th>4</th>\n",
       "      <td>0.020430</td>\n",
       "      <td>0.002378</td>\n",
       "      <td>0.000210</td>\n",
       "      <td>0.156912</td>\n",
       "      <td>0.0</td>\n",
       "      <td>NaN</td>\n",
       "      <td>NaN</td>\n",
       "      <td>NaN</td>\n",
       "      <td>NaN</td>\n",
       "      <td>NaN</td>\n",
       "      <td>NaN</td>\n",
       "    </tr>\n",
       "  </tbody>\n",
       "</table>\n",
       "</div>"
      ],
      "text/plain": [
       "   Line Item Value  Pack Price  Unit Price  Freight Cost (USD)  \\\n",
       "0         0.000093    0.021551    0.004065            0.002694   \n",
       "1         0.001042    0.004607    0.000126            0.015610   \n",
       "2         0.006720    0.059451    0.003352            0.005710   \n",
       "3         0.021398    0.002965    0.000293            0.055263   \n",
       "4         0.020430    0.002378    0.000210            0.156912   \n",
       "\n",
       "   Line Item Insurance (USD)  PQ First Sent to Client Date day  \\\n",
       "0                        0.0                               NaN   \n",
       "1                        0.0                               NaN   \n",
       "2                        0.0                               NaN   \n",
       "3                        0.0                               NaN   \n",
       "4                        0.0                               NaN   \n",
       "\n",
       "   PQ First Sent to Client Date month  PQ First Sent to Client Date year  \\\n",
       "0                                 NaN                                NaN   \n",
       "1                                 NaN                                NaN   \n",
       "2                                 NaN                                NaN   \n",
       "3                                 NaN                                NaN   \n",
       "4                                 NaN                                NaN   \n",
       "\n",
       "   PO Sent to Vendor Date day  PO Sent to Vendor Date month  \\\n",
       "0                         NaN                           NaN   \n",
       "1                         NaN                           NaN   \n",
       "2                         NaN                           NaN   \n",
       "3                         NaN                           NaN   \n",
       "4                         NaN                           NaN   \n",
       "\n",
       "   PO Sent to Vendor Date year  \n",
       "0                          NaN  \n",
       "1                          NaN  \n",
       "2                          NaN  \n",
       "3                          NaN  \n",
       "4                          NaN  "
      ]
     },
     "execution_count": 37,
     "metadata": {},
     "output_type": "execute_result"
    }
   ],
   "source": [
    "df_obj.select_dtypes(include='float64').head()"
   ]
  },
  {
   "cell_type": "code",
   "execution_count": 38,
   "metadata": {},
   "outputs": [
    {
     "data": {
      "text/plain": [
       "<matplotlib.axes._subplots.AxesSubplot at 0x1e0949413c8>"
      ]
     },
     "execution_count": 38,
     "metadata": {},
     "output_type": "execute_result"
    },
    {
     "data": {
      "image/png": "[encoded data removed]",
      "text/plain": [
       "<Figure size 432x288 with 1 Axes>"
      ]
     },
     "metadata": {},
     "output_type": "display_data"
    }
   ],
   "source": [
    "sns.distplot(df_obj['Line Item Value'])"
   ]
  },
  {
   "cell_type": "code",
   "execution_count": 39,
   "metadata": {},
   "outputs": [],
   "source": [
    "# Apply Log + 1 transformation to normalize skewed data while accounting for zeros.\n",
    "for col in nums.columns:\n",
    "    df_obj[col] = np.log(df[col]+1)"
   ]
  },
  {
   "cell_type": "code",
   "execution_count": 40,
   "metadata": {},
   "outputs": [
    {
     "data": {
      "image/png": "[encoded data removed]",
      "text/plain": [
       "<Figure size 432x288 with 1 Axes>"
      ]
     },
     "metadata": {},
     "output_type": "display_data"
    }
   ],
   "source": [
    "sns.distplot(df_obj['Line Item Value']);"
   ]
  },
  {
   "cell_type": "code",
   "execution_count": 41,
   "metadata": {},
   "outputs": [
    {
     "data": {
      "text/plain": [
       "0    0\n",
       "dtype: int64"
      ]
     },
     "execution_count": 41,
     "metadata": {},
     "output_type": "execute_result"
    }
   ],
   "source": [
    "#Establish Baseline for Delivery Date Prediction\n",
    "df_obj['Schedule v Actual'] = df_obj['Schedule v Actual'].astype('int64')\n",
    "df_obj['Schedule v Actual'].mode()"
   ]
  },
  {
   "cell_type": "code",
   "execution_count": 42,
   "metadata": {},
   "outputs": [],
   "source": [
    "df_obj=df_obj.fillna(0)"
   ]
  },
  {
   "cell_type": "code",
   "execution_count": 43,
   "metadata": {},
   "outputs": [
    {
     "data": {
      "text/html": [
       "<div>\n",
       "<style scoped>\n",
       "    .dataframe tbody tr th:only-of-type {\n",
       "        vertical-align: middle;\n",
       "    }\n",
       "\n",
       "    .dataframe tbody tr th {\n",
       "        vertical-align: top;\n",
       "    }\n",
       "\n",
       "    .dataframe thead th {\n",
       "        text-align: right;\n",
       "    }\n",
       "</style>\n",
       "<table border=\"1\" class=\"dataframe\">\n",
       "  <thead>\n",
       "    <tr style=\"text-align: right;\">\n",
       "      <th></th>\n",
       "      <th>Unit of Measure (Per Pack)</th>\n",
       "      <th>Line Item Quantity</th>\n",
       "      <th>Line Item Value</th>\n",
       "      <th>Pack Price</th>\n",
       "      <th>Unit Price</th>\n",
       "      <th>Weight (Kilograms)</th>\n",
       "      <th>Freight Cost (USD)</th>\n",
       "      <th>Line Item Insurance (USD)</th>\n",
       "      <th>Schedule v Actual</th>\n",
       "      <th>PQ First Sent to Client Date day</th>\n",
       "      <th>...</th>\n",
       "      <th>Delivery Period_201412</th>\n",
       "      <th>Delivery Period_201501</th>\n",
       "      <th>Delivery Period_201502</th>\n",
       "      <th>Delivery Period_201503</th>\n",
       "      <th>Delivery Period_201504</th>\n",
       "      <th>Delivery Period_201505</th>\n",
       "      <th>Delivery Period_201506</th>\n",
       "      <th>Delivery Period_201507</th>\n",
       "      <th>Delivery Period_201508</th>\n",
       "      <th>Delivery Period_201509</th>\n",
       "    </tr>\n",
       "  </thead>\n",
       "  <tbody>\n",
       "    <tr>\n",
       "      <th>0</th>\n",
       "      <td>30</td>\n",
       "      <td>19</td>\n",
       "      <td>6.313548</td>\n",
       "      <td>3.401197</td>\n",
       "      <td>0.678034</td>\n",
       "      <td>13</td>\n",
       "      <td>6.661010</td>\n",
       "      <td>0.0</td>\n",
       "      <td>0</td>\n",
       "      <td>0.0</td>\n",
       "      <td>...</td>\n",
       "      <td>0</td>\n",
       "      <td>0</td>\n",
       "      <td>0</td>\n",
       "      <td>0</td>\n",
       "      <td>0</td>\n",
       "      <td>0</td>\n",
       "      <td>0</td>\n",
       "      <td>0</td>\n",
       "      <td>0</td>\n",
       "      <td>0</td>\n",
       "    </tr>\n",
       "    <tr>\n",
       "      <th>1</th>\n",
       "      <td>240</td>\n",
       "      <td>1000</td>\n",
       "      <td>8.732466</td>\n",
       "      <td>1.974081</td>\n",
       "      <td>0.029559</td>\n",
       "      <td>358</td>\n",
       "      <td>8.416820</td>\n",
       "      <td>0.0</td>\n",
       "      <td>0</td>\n",
       "      <td>0.0</td>\n",
       "      <td>...</td>\n",
       "      <td>0</td>\n",
       "      <td>0</td>\n",
       "      <td>0</td>\n",
       "      <td>0</td>\n",
       "      <td>0</td>\n",
       "      <td>0</td>\n",
       "      <td>0</td>\n",
       "      <td>0</td>\n",
       "      <td>0</td>\n",
       "      <td>0</td>\n",
       "    </tr>\n",
       "    <tr>\n",
       "      <th>2</th>\n",
       "      <td>100</td>\n",
       "      <td>500</td>\n",
       "      <td>10.596660</td>\n",
       "      <td>4.394449</td>\n",
       "      <td>0.587787</td>\n",
       "      <td>171</td>\n",
       "      <td>7.411423</td>\n",
       "      <td>0.0</td>\n",
       "      <td>0</td>\n",
       "      <td>0.0</td>\n",
       "      <td>...</td>\n",
       "      <td>0</td>\n",
       "      <td>0</td>\n",
       "      <td>0</td>\n",
       "      <td>0</td>\n",
       "      <td>0</td>\n",
       "      <td>0</td>\n",
       "      <td>0</td>\n",
       "      <td>0</td>\n",
       "      <td>0</td>\n",
       "      <td>0</td>\n",
       "    </tr>\n",
       "    <tr>\n",
       "      <th>3</th>\n",
       "      <td>60</td>\n",
       "      <td>31920</td>\n",
       "      <td>11.754787</td>\n",
       "      <td>1.607436</td>\n",
       "      <td>0.067659</td>\n",
       "      <td>1855</td>\n",
       "      <td>9.680848</td>\n",
       "      <td>0.0</td>\n",
       "      <td>0</td>\n",
       "      <td>0.0</td>\n",
       "      <td>...</td>\n",
       "      <td>0</td>\n",
       "      <td>0</td>\n",
       "      <td>0</td>\n",
       "      <td>0</td>\n",
       "      <td>0</td>\n",
       "      <td>0</td>\n",
       "      <td>0</td>\n",
       "      <td>0</td>\n",
       "      <td>0</td>\n",
       "      <td>0</td>\n",
       "    </tr>\n",
       "    <tr>\n",
       "      <th>4</th>\n",
       "      <td>60</td>\n",
       "      <td>38000</td>\n",
       "      <td>11.708500</td>\n",
       "      <td>1.435085</td>\n",
       "      <td>0.048790</td>\n",
       "      <td>7590</td>\n",
       "      <td>10.724392</td>\n",
       "      <td>0.0</td>\n",
       "      <td>0</td>\n",
       "      <td>0.0</td>\n",
       "      <td>...</td>\n",
       "      <td>0</td>\n",
       "      <td>0</td>\n",
       "      <td>0</td>\n",
       "      <td>0</td>\n",
       "      <td>0</td>\n",
       "      <td>0</td>\n",
       "      <td>0</td>\n",
       "      <td>0</td>\n",
       "      <td>0</td>\n",
       "      <td>0</td>\n",
       "    </tr>\n",
       "  </tbody>\n",
       "</table>\n",
       "<p>5 rows × 903 columns</p>\n",
       "</div>"
      ],
      "text/plain": [
       "   Unit of Measure (Per Pack)  Line Item Quantity  Line Item Value  \\\n",
       "0                          30                  19         6.313548   \n",
       "1                         240                1000         8.732466   \n",
       "2                         100                 500        10.596660   \n",
       "3                          60               31920        11.754787   \n",
       "4                          60               38000        11.708500   \n",
       "\n",
       "   Pack Price  Unit Price  Weight (Kilograms)  Freight Cost (USD)  \\\n",
       "0    3.401197    0.678034                  13            6.661010   \n",
       "1    1.974081    0.029559                 358            8.416820   \n",
       "2    4.394449    0.587787                 171            7.411423   \n",
       "3    1.607436    0.067659                1855            9.680848   \n",
       "4    1.435085    0.048790                7590           10.724392   \n",
       "\n",
       "   Line Item Insurance (USD)  Schedule v Actual  \\\n",
       "0                        0.0                  0   \n",
       "1                        0.0                  0   \n",
       "2                        0.0                  0   \n",
       "3                        0.0                  0   \n",
       "4                        0.0                  0   \n",
       "\n",
       "   PQ First Sent to Client Date day  ...  Delivery Period_201412  \\\n",
       "0                               0.0  ...                       0   \n",
       "1                               0.0  ...                       0   \n",
       "2                               0.0  ...                       0   \n",
       "3                               0.0  ...                       0   \n",
       "4                               0.0  ...                       0   \n",
       "\n",
       "   Delivery Period_201501  Delivery Period_201502  Delivery Period_201503  \\\n",
       "0                       0                       0                       0   \n",
       "1                       0                       0                       0   \n",
       "2                       0                       0                       0   \n",
       "3                       0                       0                       0   \n",
       "4                       0                       0                       0   \n",
       "\n",
       "   Delivery Period_201504  Delivery Period_201505  Delivery Period_201506  \\\n",
       "0                       0                       0                       0   \n",
       "1                       0                       0                       0   \n",
       "2                       0                       0                       0   \n",
       "3                       0                       0                       0   \n",
       "4                       0                       0                       0   \n",
       "\n",
       "   Delivery Period_201507  Delivery Period_201508  Delivery Period_201509  \n",
       "0                       0                       0                       0  \n",
       "1                       0                       0                       0  \n",
       "2                       0                       0                       0  \n",
       "3                       0                       0                       0  \n",
       "4                       0                       0                       0  \n",
       "\n",
       "[5 rows x 903 columns]"
      ]
     },
     "execution_count": 43,
     "metadata": {},
     "output_type": "execute_result"
    }
   ],
   "source": [
    "df_obj.head()"
   ]
  },
  {
   "cell_type": "code",
   "execution_count": 44,
   "metadata": {},
   "outputs": [
    {
     "data": {
      "text/plain": [
       "0"
      ]
     },
     "execution_count": 44,
     "metadata": {},
     "output_type": "execute_result"
    }
   ],
   "source": [
    "df_obj['PQ First Sent to Client Date day'].isna().sum()"
   ]
  },
  {
   "cell_type": "code",
   "execution_count": 45,
   "metadata": {},
   "outputs": [
    {
     "data": {
      "text/plain": [
       "Unit of Measure (Per Pack)            0\n",
       "Line Item Quantity                    0\n",
       "Line Item Value                       0\n",
       "Pack Price                            0\n",
       "Unit Price                            0\n",
       "Weight (Kilograms)                    0\n",
       "Freight Cost (USD)                    0\n",
       "Line Item Insurance (USD)             0\n",
       "Schedule v Actual                     0\n",
       "PQ First Sent to Client Date day      0\n",
       "PQ First Sent to Client Date month    0\n",
       "PQ First Sent to Client Date year     0\n",
       "PO Sent to Vendor Date day            0\n",
       "PO Sent to Vendor Date month          0\n",
       "PO Sent to Vendor Date year           0\n",
       "Scheduled Delivery Date day           0\n",
       "Scheduled Delivery Date month         0\n",
       "Scheduled Delivery Date year          0\n",
       "Delivered to Client Date day          0\n",
       "Delivered to Client Date month        0\n",
       "Delivered to Client Date year         0\n",
       "Delivery Recorded Date day            0\n",
       "Delivery Recorded Date month          0\n",
       "Delivery Recorded Date year           0\n",
       "Project Code_100-BJ-T30               0\n",
       "Project Code_100-BW-T01               0\n",
       "Project Code_100-BZ-T30               0\n",
       "Project Code_100-CI-T01               0\n",
       "Project Code_100-DO-T30               0\n",
       "Project Code_100-GH-T01               0\n",
       "                                     ..\n",
       "Delivery Period_201304                0\n",
       "Delivery Period_201305                0\n",
       "Delivery Period_201306                0\n",
       "Delivery Period_201307                0\n",
       "Delivery Period_201308                0\n",
       "Delivery Period_201309                0\n",
       "Delivery Period_201310                0\n",
       "Delivery Period_201311                0\n",
       "Delivery Period_201312                0\n",
       "Delivery Period_201401                0\n",
       "Delivery Period_201402                0\n",
       "Delivery Period_201403                0\n",
       "Delivery Period_201404                0\n",
       "Delivery Period_201405                0\n",
       "Delivery Period_201406                0\n",
       "Delivery Period_201407                0\n",
       "Delivery Period_201408                0\n",
       "Delivery Period_201409                0\n",
       "Delivery Period_201410                0\n",
       "Delivery Period_201411                0\n",
       "Delivery Period_201412                0\n",
       "Delivery Period_201501                0\n",
       "Delivery Period_201502                0\n",
       "Delivery Period_201503                0\n",
       "Delivery Period_201504                0\n",
       "Delivery Period_201505                0\n",
       "Delivery Period_201506                0\n",
       "Delivery Period_201507                0\n",
       "Delivery Period_201508                0\n",
       "Delivery Period_201509                0\n",
       "Length: 903, dtype: int64"
      ]
     },
     "execution_count": 45,
     "metadata": {},
     "output_type": "execute_result"
    }
   ],
   "source": [
    "df_obj.isna().sum()"
   ]
  },
  {
   "cell_type": "code",
   "execution_count": 46,
   "metadata": {},
   "outputs": [],
   "source": [
    "X_bench = df_obj.drop('Schedule v Actual',axis=1)\n",
    "y_bench = df_obj['Schedule v Actual']\n",
    "\n",
    "df_obj['y_bench_pred'] = 0"
   ]
  },
  {
   "cell_type": "code",
   "execution_count": 47,
   "metadata": {},
   "outputs": [
    {
     "name": "stdout",
     "output_type": "stream",
     "text": [
      "Benchmark MSE: 29.221\n"
     ]
    }
   ],
   "source": [
    "from sklearn.metrics import mean_squared_error\n",
    "from math import sqrt\n",
    "\n",
    "# Establish Benchmark \n",
    "rmse = sqrt(mean_squared_error(df_obj['Schedule v Actual'], df_obj['y_bench_pred']))\n",
    "print('Benchmark MSE: %.3f' % rmse)\n",
    "\n",
    "df_obj.drop('y_bench_pred',axis=1,inplace=True)"
   ]
  },
  {
   "cell_type": "code",
   "execution_count": 48,
   "metadata": {},
   "outputs": [
    {
     "name": "stdout",
     "output_type": "stream",
     "text": [
      "Training data contains 6917 records\n",
      "Test data contains 3407 records\n"
     ]
    }
   ],
   "source": [
    "from sklearn.model_selection import train_test_split\n",
    "\n",
    "X = df_obj.drop('Schedule v Actual',axis=1).values\n",
    "y = df_obj['Schedule v Actual'].values\n",
    "\n",
    "X_train, X_test, y_train, y_test = train_test_split(X, y, test_size=0.33, random_state=42)\n",
    "\n",
    "print('Training data contains %.0f records'%len(X_train))\n",
    "print('Test data contains %.0f records'%len(X_test))"
   ]
  },
  {
   "cell_type": "code",
   "execution_count": 49,
   "metadata": {},
   "outputs": [
    {
     "data": {
      "text/plain": [
       "array([[3.00000000e+01, 1.90000000e+01, 6.31354805e+00, ...,\n",
       "        0.00000000e+00, 0.00000000e+00, 0.00000000e+00],\n",
       "       [2.40000000e+02, 1.00000000e+03, 8.73246585e+00, ...,\n",
       "        0.00000000e+00, 0.00000000e+00, 0.00000000e+00],\n",
       "       [1.00000000e+02, 5.00000000e+02, 1.05966597e+01, ...,\n",
       "        0.00000000e+00, 0.00000000e+00, 0.00000000e+00],\n",
       "       ...,\n",
       "       [3.00000000e+01, 5.14526000e+05, 1.54525862e+01, ...,\n",
       "        0.00000000e+00, 0.00000000e+00, 1.00000000e+00],\n",
       "       [6.00000000e+01, 1.74650000e+04, 1.16428373e+01, ...,\n",
       "        0.00000000e+00, 1.00000000e+00, 0.00000000e+00],\n",
       "       [6.00000000e+01, 3.66390000e+04, 1.11970169e+01, ...,\n",
       "        0.00000000e+00, 1.00000000e+00, 0.00000000e+00]])"
      ]
     },
     "execution_count": 49,
     "metadata": {},
     "output_type": "execute_result"
    }
   ],
   "source": [
    "X"
   ]
  },
  {
   "cell_type": "code",
   "execution_count": null,
   "metadata": {},
   "outputs": [],
   "source": []
  },
  {
   "cell_type": "markdown",
   "metadata": {},
   "source": [
    "## Creating model for Delivery Date Prediction"
   ]
  },
  {
   "cell_type": "code",
   "execution_count": 61,
   "metadata": {},
   "outputs": [],
   "source": [
    "#Create model for Delivery Date Prediction\n",
    "from keras.models import Sequential\n",
    "from keras.layers import Dense\n",
    "\n",
    "def fit_model(nb_epoch, batch_size):\n",
    "    model = Sequential()\n",
    "    model.add(Dense(1024,input_dim=X_train.shape[1], activation='relu'))\n",
    "    model.add(Dense(512, activation='relu'))\n",
    "    model.add(Dense(256, activation='relu'))\n",
    "    model.add(Dense(1, kernel_initializer='normal'))\n",
    "    # compile model\n",
    "    model.compile(loss='mean_squared_error',optimizer='Adam')\n",
    "    for i in range(nb_epoch):\n",
    "        model.fit(X_train, y_train, epochs=1, batch_size=batch_size, verbose=0, shuffle=False)\n",
    "        model.reset_states()\n",
    "    return model"
   ]
  },
  {
   "cell_type": "code",
   "execution_count": 62,
   "metadata": {},
   "outputs": [],
   "source": [
    "model = fit_model(150,256)"
   ]
  },
  {
   "cell_type": "code",
   "execution_count": 63,
   "metadata": {},
   "outputs": [
    {
     "name": "stdout",
     "output_type": "stream",
     "text": [
      "Training RMSE is 22.52\n"
     ]
    }
   ],
   "source": [
    "train_pred = model.predict(X_train)\n",
    "train_mse = mean_squared_error(train_pred,y_train)\n",
    "print('Training RMSE is %.2f' % sqrt(train_mse))"
   ]
  },
  {
   "cell_type": "code",
   "execution_count": 64,
   "metadata": {},
   "outputs": [
    {
     "name": "stdout",
     "output_type": "stream",
     "text": [
      "Test RMSE is 25.31\n"
     ]
    }
   ],
   "source": [
    "test_pred = model.predict(X_test)\n",
    "test_mse = mean_squared_error(test_pred, y_test)\n",
    "print('Test RMSE is %.2f' % sqrt(test_mse))"
   ]
  },
  {
   "cell_type": "code",
   "execution_count": 69,
   "metadata": {},
   "outputs": [
    {
     "data": {
      "text/plain": [
       "<matplotlib.collections.PathCollection at 0x1e0ab6f1eb8>"
      ]
     },
     "execution_count": 69,
     "metadata": {},
     "output_type": "execute_result"
    },
    {
     "data": {
      "image/png": "[encoded data removed]",
      "text/plain": [
       "<Figure size 432x288 with 1 Axes>"
      ]
     },
     "metadata": {},
     "output_type": "display_data"
    }
   ],
   "source": [
    "fig = plt.figure()\n",
    "ax = plt.axes()\n",
    "plt.scatter(test_pred,y_test)\n"
   ]
  },
  {
   "cell_type": "code",
   "execution_count": 72,
   "metadata": {},
   "outputs": [
    {
     "data": {
      "image/png": "[encoded data removed]",
      "text/plain": [
       "<Figure size 432x288 with 1 Axes>"
      ]
     },
     "metadata": {},
     "output_type": "display_data"
    }
   ],
   "source": [
    "pyplot.plot(y_test)\n",
    "pyplot.plot(test_pred)\n",
    "pyplot.show()"
   ]
  },
  {
   "cell_type": "markdown",
   "metadata": {},
   "source": [
    "##  LSTM Forecasting"
   ]
  },
  {
   "cell_type": "code",
   "execution_count": null,
   "metadata": {},
   "outputs": [],
   "source": [
    "# Use LSTM to forecast freight costs per month"
   ]
  },
  {
   "cell_type": "code",
   "execution_count": 52,
   "metadata": {},
   "outputs": [
    {
     "data": {
      "image/png": "[encoded data removed]",
      "text/plain": [
       "<Figure size 432x288 with 1 Axes>"
      ]
     },
     "metadata": {},
     "output_type": "display_data"
    }
   ],
   "source": [
    "df.groupby(['Delivery Period'])['Freight Cost (USD)'].sum().plot();"
   ]
  },
  {
   "cell_type": "code",
   "execution_count": 54,
   "metadata": {},
   "outputs": [],
   "source": [
    "fc_data = df.groupby(['Delivery Period'])['Freight Cost (USD)'].sum()"
   ]
  },
  {
   "cell_type": "code",
   "execution_count": 55,
   "metadata": {},
   "outputs": [],
   "source": [
    "from sklearn.preprocessing import MinMaxScaler\n",
    "from keras.models import Sequential\n",
    "from keras.layers import Dense\n",
    "from keras.layers import LSTM\n",
    "from keras.layers import Bidirectional\n",
    "\n",
    "# frame forecast sequence as supervised learning problem\n",
    "def timeseries_to_supervised(data, lag=1):\n",
    "    columns = [data.shift(i) for i in range(1, lag+1)]\n",
    "    columns.append(data)\n",
    "    df = pd.concat(columns, axis=1)\n",
    "    df.fillna(0,inplace=True)\n",
    "    return df\n",
    "\n",
    "# create differenced series\n",
    "def difference(data, interval=1):\n",
    "    diff= list()\n",
    "    for i in range(interval, len(data)):\n",
    "        value = data[i] - data[i-interval]\n",
    "        diff.append(value)\n",
    "    return pd.Series(diff)\n",
    "\n",
    "# invert differenced value\n",
    "def inverse_difference(history, yhat, interval=1):\n",
    "    return yhat + history[-interval]\n",
    "\n",
    "# scale data\n",
    "def scale(train, test):\n",
    "    scaler = MinMaxScaler(feature_range=(-1,1))\n",
    "    scaler = scaler.fit(train)\n",
    "    # Scale Training Data\n",
    "    train = train.reshape(train.shape[0], train.shape[1])\n",
    "    train_scaled = scaler.transform(train)\n",
    "    # Scale Test data\n",
    "    test = test.reshape(test.shape[0], test.shape[1])\n",
    "    test_scaled = scaler.transform(test)\n",
    "    return scaler, train_scaled, test_scaled\n",
    "\n",
    "# inverse scaling for a forecasted value\n",
    "def invert_scale(scaler, X, value):\n",
    "    new_row = [x for x in X] + [value]\n",
    "    array = numpy.array(new_row)\n",
    "    array = array.reshape(1, len(array))\n",
    "    inverted = scaler.inverse_transform(array)\n",
    "    return inverted[0, -1]\n",
    " \n",
    "# fit an LSTM network to training data\n",
    "def fit_lstm(train, batch_size, nb_epoch, neurons):\n",
    "    X, y = train[:, 0:-1], train[:, -1]\n",
    "    X = X.reshape(X.shape[0], 1, X.shape[1])\n",
    "    model = Sequential()\n",
    "    model.add(LSTM(neurons, batch_input_shape=(batch_size, X.shape[1], X.shape[2]), stateful=True))\n",
    "    model.add(Dense(1))\n",
    "    model.compile(loss='mean_squared_error', optimizer='adam')\n",
    "    for i in range(nb_epoch):\n",
    "        model.fit(X, y, epochs=1, batch_size=batch_size, verbose=0, shuffle=False)\n",
    "        model.reset_states()\n",
    "    return model\n",
    " \n",
    "# make a one-step forecast\n",
    "def forecast_lstm(model, batch_size, X):\n",
    "    X = X.reshape(1, 1, len(X))\n",
    "    yhat = model.predict(X, batch_size=batch_size)\n",
    "    return yhat[0,0]"
   ]
  },
  {
   "cell_type": "code",
   "execution_count": 56,
   "metadata": {},
   "outputs": [],
   "source": [
    "# Transform data to be stationary\n",
    "diff_values = difference(fc_data)\n",
    "\n",
    "# Frame as supervised learning\n",
    "supervised = timeseries_to_supervised(diff_values,1)\n",
    "supervised_values = supervised.values\n",
    "\n",
    "# Split to Train and Test sets\n",
    "train, test = supervised_values[0:-25], supervised_values[-25:-1]\n",
    "\n",
    "# Scale data\n",
    "scaler, train_scaled, test_scaled = scale(train, test)"
   ]
  },
  {
   "cell_type": "code",
   "execution_count": 57,
   "metadata": {},
   "outputs": [],
   "source": [
    "naive_pred = np.full((len(test),1), fc_data[0:-25].mean())"
   ]
  },
  {
   "cell_type": "code",
   "execution_count": 58,
   "metadata": {},
   "outputs": [
    {
     "name": "stdout",
     "output_type": "stream",
     "text": [
      "Benchmark RMSE: 539258.596\n"
     ]
    }
   ],
   "source": [
    "from sklearn.metrics import mean_squared_error\n",
    "# Establish Benchmark \n",
    "\n",
    "rmse = sqrt(mean_squared_error(fc_data.values[-25:-1], naive_pred))\n",
    "print('Benchmark RMSE: %.3f' % rmse)"
   ]
  },
  {
   "cell_type": "code",
   "execution_count": 59,
   "metadata": {},
   "outputs": [
    {
     "data": {
      "text/plain": [
       "array([[ 0.06160927],\n",
       "       [-0.04000533],\n",
       "       [ 0.15862882],\n",
       "       [-0.12036979],\n",
       "       [-0.04173493],\n",
       "       [ 0.0853281 ],\n",
       "       [ 0.05814826],\n",
       "       [-0.01032817],\n",
       "       [ 0.02062982],\n",
       "       [-0.00861895],\n",
       "       [-0.13857651],\n",
       "       [ 0.07751381],\n",
       "       [-0.04105341],\n",
       "       [ 0.05669379],\n",
       "       [ 0.00697243],\n",
       "       [-0.1451081 ],\n",
       "       [-0.03853881],\n",
       "       [ 0.09005755],\n",
       "       [-0.05186903],\n",
       "       [ 0.04931623],\n",
       "       [-0.09181702],\n",
       "       [ 0.15570533],\n",
       "       [-0.07322466],\n",
       "       [ 0.10233915],\n",
       "       [ 0.20933592],\n",
       "       [ 0.03049737],\n",
       "       [-0.31293643],\n",
       "       [ 0.16435182],\n",
       "       [-0.11086977],\n",
       "       [-0.42701137],\n",
       "       [ 0.17620862],\n",
       "       [-0.06648886],\n",
       "       [ 0.28104568],\n",
       "       [-0.02053058],\n",
       "       [-0.20086157],\n",
       "       [ 0.08423328],\n",
       "       [ 0.05735177],\n",
       "       [-0.06511831],\n",
       "       [ 0.16872185],\n",
       "       [ 0.00311327],\n",
       "       [-0.13758802],\n",
       "       [-0.18206418],\n",
       "       [ 0.21972907],\n",
       "       [ 0.01100266],\n",
       "       [ 0.01658607],\n",
       "       [ 0.12717903],\n",
       "       [-0.44828045],\n",
       "       [ 0.36426353],\n",
       "       [-0.21512449],\n",
       "       [ 0.0943082 ],\n",
       "       [ 0.17028946],\n",
       "       [-0.15799773],\n",
       "       [ 0.1722818 ],\n",
       "       [ 0.2060681 ],\n",
       "       [-0.11511827],\n",
       "       [-0.2295537 ],\n",
       "       [ 0.5181112 ],\n",
       "       [-0.10635591],\n",
       "       [-0.20201266],\n",
       "       [ 0.39038372],\n",
       "       [ 0.09198129],\n",
       "       [-0.09431553],\n",
       "       [-0.5446267 ],\n",
       "       [ 0.2810356 ],\n",
       "       [-0.39462864],\n",
       "       [ 0.16940618],\n",
       "       [ 0.2752409 ],\n",
       "       [-0.01753116],\n",
       "       [ 0.3850947 ],\n",
       "       [-0.10713899],\n",
       "       [-0.22794569],\n",
       "       [ 0.20542389],\n",
       "       [ 0.29089093],\n",
       "       [-0.08846724],\n",
       "       [-0.52135277],\n",
       "       [-0.44326425],\n",
       "       [ 0.63466537],\n",
       "       [-0.20463979],\n",
       "       [-0.0021224 ],\n",
       "       [ 0.29825187],\n",
       "       [ 0.8190337 ],\n",
       "       [-0.3144499 ],\n",
       "       [ 0.07929003],\n",
       "       [ 0.27330852],\n",
       "       [ 0.00279915],\n",
       "       [ 0.36928284],\n",
       "       [-0.06778538]], dtype=float32)"
      ]
     },
     "execution_count": 59,
     "metadata": {},
     "output_type": "execute_result"
    }
   ],
   "source": [
    "# fit LSTM network\n",
    "lstm_model = fit_lstm(train_scaled, 1, 4000, 4)\n",
    "\n",
    "# forecast training dataset to build up state for forecasting\n",
    "train_reshaped = train_scaled[:, 0].reshape(len(train_scaled),1,1)\n",
    "lstm_model.predict(train_reshaped, batch_size=1)"
   ]
  },
  {
   "cell_type": "code",
   "execution_count": 60,
   "metadata": {},
   "outputs": [
    {
     "name": "stdout",
     "output_type": "stream",
     "text": [
      "Month=1, Predicted=1388695.222496, Expected=1627755\n",
      "Month=2, Predicted=637855.265318, Expected=1073592\n",
      "Month=3, Predicted=1499325.431981, Expected=1379217\n",
      "Month=4, Predicted=991795.797516, Expected=1021683\n",
      "Month=5, Predicted=1085086.936764, Expected=955120\n",
      "Month=6, Predicted=689958.985377, Expected=571742\n",
      "Month=7, Predicted=1648863.506149, Expected=1343793\n",
      "Month=8, Predicted=460994.904531, Expected=777364\n",
      "Month=9, Predicted=1113498.863109, Expected=916304\n",
      "Month=10, Predicted=1784909.783173, Expected=1740715\n",
      "Month=11, Predicted=284748.655417, Expected=817621\n",
      "Month=12, Predicted=1627776.028722, Expected=803151\n",
      "Month=13, Predicted=1327171.357482, Expected=1074761\n",
      "Month=14, Predicted=571271.460490, Expected=636354\n",
      "Month=15, Predicted=1378719.518085, Expected=1024728\n",
      "Month=16, Predicted=226315.031220, Expected=338572\n",
      "Month=17, Predicted=1743853.924744, Expected=942156\n",
      "Month=18, Predicted=781189.719453, Expected=956871\n",
      "Month=19, Predicted=1059286.094316, Expected=1103660\n",
      "Month=20, Predicted=849571.757481, Expected=935684\n",
      "Month=21, Predicted=964136.421519, Expected=898025\n",
      "Month=22, Predicted=801361.838373, Expected=723015\n",
      "Month=23, Predicted=411043.186932, Expected=286987\n",
      "Month=24, Predicted=753014.216911, Expected=80940\n",
      "Test RMSE: 345058.252\n"
     ]
    },
    {
     "data": {
      "image/png": "[encoded data removed]",
      "text/plain": [
       "<Figure size 432x288 with 1 Axes>"
      ]
     },
     "metadata": {},
     "output_type": "display_data"
    }
   ],
   "source": [
    "from math import sqrt\n",
    "from matplotlib import pyplot\n",
    "import numpy\n",
    "\n",
    "# validatiion on test data\n",
    "predictions = list()\n",
    "for i in range(len(test_scaled)):\n",
    "    # one step forecast\n",
    "    X, y = test_scaled[i, 0:-1], test_scaled[i,-1]\n",
    "    yhat = forecast_lstm(lstm_model,1,X)\n",
    "    # invert scaling\n",
    "    yhat = invert_scale(scaler, X, yhat)\n",
    "    # invert differencing\n",
    "    yhat = inverse_difference(fc_data.values, yhat, len(test_scaled)+1-i)\n",
    "    # store forecast\n",
    "    predictions.append(yhat)\n",
    "    expected = fc_data.values[len(train) + i + 1]\n",
    "    print('Month=%d, Predicted=%f, Expected=%i'% (i+1, yhat, expected))\n",
    "    \n",
    "rmse = sqrt(mean_squared_error(fc_data.values[-25:-1], predictions))\n",
    "print('Test RMSE: %.3f' % rmse)\n",
    "\n",
    "# plot observed vs forecasted\n",
    "pyplot.plot(fc_data.values[-25:-1])\n",
    "pyplot.plot(predictions)\n",
    "pyplot.show()"
   ]
  },
  {
   "cell_type": "markdown",
   "metadata": {},
   "source": [
    "## LSTM improved accuracy of naive prediction by a score of 194,200 RMSE (539,258 vs. 345058)"
   ]
  },
  {
   "cell_type": "code",
   "execution_count": null,
   "metadata": {},
   "outputs": [],
   "source": []
  }
 ],
 "metadata": {
  "kernelspec": {
   "display_name": "Python 3",
   "language": "python",
   "name": "python3"
  },
  "language_info": {
   "codemirror_mode": {
    "name": "ipython",
    "version": 3
   },
   "file_extension": ".py",
   "mimetype": "text/x-python",
   "name": "python",
   "nbconvert_exporter": "python",
   "pygments_lexer": "ipython3",
   "version": "3.7.3"
  }
 },
 "nbformat": 4,
 "nbformat_minor": 2
}
